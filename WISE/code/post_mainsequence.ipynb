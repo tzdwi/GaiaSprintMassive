{
 "cells": [
  {
   "cell_type": "code",
   "execution_count": 1,
   "metadata": {},
   "outputs": [],
   "source": [
    "import numpy as np, pandas as pd\n",
    "from matplotlib import pyplot as plt\n",
    "import pysynphot as S\n",
    "\n",
    "%matplotlib inline"
   ]
  },
  {
   "cell_type": "code",
   "execution_count": 2,
   "metadata": {},
   "outputs": [],
   "source": [
    "bright_features = pd.read_csv('massive_features.csv')\n",
    "bright_features.drop(columns=['Unnamed: 0'],inplace=True)\n",
    "bright_sample = pd.read_csv('../data/bright_sample/massive.csv.gz')\n",
    "bright = pd.merge(bright_sample,bright_features,left_on='original_ext_source_id',right_on='Name')"
   ]
  },
  {
   "cell_type": "code",
   "execution_count": 3,
   "metadata": {},
   "outputs": [],
   "source": [
    "mainsequence = bright[(bright['(BP_RP)_0']<=0.55)&(bright['W1-W2']<=0.075)]\n",
    "dustyms = bright[(bright['(BP_RP)_0']<=0.55)&(bright['W1-W2']>0.075)]\n",
    "postms = bright[(bright['(BP_RP)_0']>0.55)]"
   ]
  },
  {
   "cell_type": "code",
   "execution_count": 26,
   "metadata": {},
   "outputs": [],
   "source": [
    "w1wav,w1t = np.genfromtxt('../data/WISE_filters/RSR-W1.txt',unpack=True,usecols=(0,1))\n",
    "W1 = S.ArrayBandpass(w1wav*1e4, w1t, name='W1')\n",
    "\n",
    "w2wav,w2t = np.genfromtxt('../data/WISE_filters/RSR-W2.txt',unpack=True,usecols=(0,1))\n",
    "W2 = S.ArrayBandpass(w2wav*1e4, w2t, name='W2')"
   ]
  },
  {
   "cell_type": "code",
   "execution_count": 30,
   "metadata": {},
   "outputs": [
    {
     "name": "stdout",
     "output_type": "stream",
     "text": [
      "(W1) does not have a defined binset in the wavecat table. The waveset of the spectrum will be used instead.\n",
      "(W2) does not have a defined binset in the wavecat table. The waveset of the spectrum will be used instead.\n",
      "(W1) does not have a defined binset in the wavecat table. The waveset of the spectrum will be used instead.\n",
      "(W2) does not have a defined binset in the wavecat table. The waveset of the spectrum will be used instead.\n",
      "(W1) does not have a defined binset in the wavecat table. The waveset of the spectrum will be used instead.\n",
      "(W2) does not have a defined binset in the wavecat table. The waveset of the spectrum will be used instead.\n",
      "(W1) does not have a defined binset in the wavecat table. The waveset of the spectrum will be used instead.\n",
      "(W2) does not have a defined binset in the wavecat table. The waveset of the spectrum will be used instead.\n",
      "(W1) does not have a defined binset in the wavecat table. The waveset of the spectrum will be used instead.\n",
      "(W2) does not have a defined binset in the wavecat table. The waveset of the spectrum will be used instead.\n",
      "(W1) does not have a defined binset in the wavecat table. The waveset of the spectrum will be used instead.\n",
      "(W2) does not have a defined binset in the wavecat table. The waveset of the spectrum will be used instead.\n",
      "(W1) does not have a defined binset in the wavecat table. The waveset of the spectrum will be used instead.\n",
      "(W2) does not have a defined binset in the wavecat table. The waveset of the spectrum will be used instead.\n",
      "(W1) does not have a defined binset in the wavecat table. The waveset of the spectrum will be used instead.\n",
      "(W2) does not have a defined binset in the wavecat table. The waveset of the spectrum will be used instead.\n",
      "(W1) does not have a defined binset in the wavecat table. The waveset of the spectrum will be used instead.\n",
      "(W2) does not have a defined binset in the wavecat table. The waveset of the spectrum will be used instead.\n",
      "(W1) does not have a defined binset in the wavecat table. The waveset of the spectrum will be used instead.\n",
      "(W2) does not have a defined binset in the wavecat table. The waveset of the spectrum will be used instead.\n",
      "(W1) does not have a defined binset in the wavecat table. The waveset of the spectrum will be used instead.\n",
      "(W2) does not have a defined binset in the wavecat table. The waveset of the spectrum will be used instead.\n",
      "(W1) does not have a defined binset in the wavecat table. The waveset of the spectrum will be used instead.\n",
      "(W2) does not have a defined binset in the wavecat table. The waveset of the spectrum will be used instead.\n",
      "(W1) does not have a defined binset in the wavecat table. The waveset of the spectrum will be used instead.\n",
      "(W2) does not have a defined binset in the wavecat table. The waveset of the spectrum will be used instead.\n",
      "(W1) does not have a defined binset in the wavecat table. The waveset of the spectrum will be used instead.\n",
      "(W2) does not have a defined binset in the wavecat table. The waveset of the spectrum will be used instead.\n",
      "(W1) does not have a defined binset in the wavecat table. The waveset of the spectrum will be used instead.\n",
      "(W2) does not have a defined binset in the wavecat table. The waveset of the spectrum will be used instead.\n",
      "(W1) does not have a defined binset in the wavecat table. The waveset of the spectrum will be used instead.\n",
      "(W2) does not have a defined binset in the wavecat table. The waveset of the spectrum will be used instead.\n",
      "(W1) does not have a defined binset in the wavecat table. The waveset of the spectrum will be used instead.\n",
      "(W2) does not have a defined binset in the wavecat table. The waveset of the spectrum will be used instead.\n",
      "(W1) does not have a defined binset in the wavecat table. The waveset of the spectrum will be used instead.\n",
      "(W2) does not have a defined binset in the wavecat table. The waveset of the spectrum will be used instead.\n",
      "(W1) does not have a defined binset in the wavecat table. The waveset of the spectrum will be used instead.\n",
      "(W2) does not have a defined binset in the wavecat table. The waveset of the spectrum will be used instead.\n",
      "(W1) does not have a defined binset in the wavecat table. The waveset of the spectrum will be used instead.\n",
      "(W2) does not have a defined binset in the wavecat table. The waveset of the spectrum will be used instead.\n",
      "(W1) does not have a defined binset in the wavecat table. The waveset of the spectrum will be used instead.\n",
      "(W2) does not have a defined binset in the wavecat table. The waveset of the spectrum will be used instead.\n",
      "(W1) does not have a defined binset in the wavecat table. The waveset of the spectrum will be used instead.\n",
      "(W2) does not have a defined binset in the wavecat table. The waveset of the spectrum will be used instead.\n",
      "(W1) does not have a defined binset in the wavecat table. The waveset of the spectrum will be used instead.\n",
      "(W2) does not have a defined binset in the wavecat table. The waveset of the spectrum will be used instead.\n",
      "(W1) does not have a defined binset in the wavecat table. The waveset of the spectrum will be used instead.\n",
      "(W2) does not have a defined binset in the wavecat table. The waveset of the spectrum will be used instead.\n",
      "(W1) does not have a defined binset in the wavecat table. The waveset of the spectrum will be used instead.\n",
      "(W2) does not have a defined binset in the wavecat table. The waveset of the spectrum will be used instead.\n",
      "(W1) does not have a defined binset in the wavecat table. The waveset of the spectrum will be used instead.\n",
      "(W2) does not have a defined binset in the wavecat table. The waveset of the spectrum will be used instead.\n",
      "(W1) does not have a defined binset in the wavecat table. The waveset of the spectrum will be used instead.\n",
      "(W2) does not have a defined binset in the wavecat table. The waveset of the spectrum will be used instead.\n",
      "(W1) does not have a defined binset in the wavecat table. The waveset of the spectrum will be used instead.\n",
      "(W2) does not have a defined binset in the wavecat table. The waveset of the spectrum will be used instead.\n",
      "(W1) does not have a defined binset in the wavecat table. The waveset of the spectrum will be used instead.\n",
      "(W2) does not have a defined binset in the wavecat table. The waveset of the spectrum will be used instead.\n",
      "(W1) does not have a defined binset in the wavecat table. The waveset of the spectrum will be used instead.\n",
      "(W2) does not have a defined binset in the wavecat table. The waveset of the spectrum will be used instead.\n",
      "(W1) does not have a defined binset in the wavecat table. The waveset of the spectrum will be used instead.\n",
      "(W2) does not have a defined binset in the wavecat table. The waveset of the spectrum will be used instead.\n",
      "(W1) does not have a defined binset in the wavecat table. The waveset of the spectrum will be used instead.\n",
      "(W2) does not have a defined binset in the wavecat table. The waveset of the spectrum will be used instead.\n",
      "(W1) does not have a defined binset in the wavecat table. The waveset of the spectrum will be used instead.\n",
      "(W2) does not have a defined binset in the wavecat table. The waveset of the spectrum will be used instead.\n",
      "(W1) does not have a defined binset in the wavecat table. The waveset of the spectrum will be used instead.\n",
      "(W2) does not have a defined binset in the wavecat table. The waveset of the spectrum will be used instead.\n",
      "(W1) does not have a defined binset in the wavecat table. The waveset of the spectrum will be used instead.\n",
      "(W2) does not have a defined binset in the wavecat table. The waveset of the spectrum will be used instead.\n",
      "(W1) does not have a defined binset in the wavecat table. The waveset of the spectrum will be used instead.\n",
      "(W2) does not have a defined binset in the wavecat table. The waveset of the spectrum will be used instead.\n",
      "(W1) does not have a defined binset in the wavecat table. The waveset of the spectrum will be used instead.\n",
      "(W2) does not have a defined binset in the wavecat table. The waveset of the spectrum will be used instead.\n",
      "(W1) does not have a defined binset in the wavecat table. The waveset of the spectrum will be used instead.\n",
      "(W2) does not have a defined binset in the wavecat table. The waveset of the spectrum will be used instead.\n",
      "(W1) does not have a defined binset in the wavecat table. The waveset of the spectrum will be used instead.\n",
      "(W2) does not have a defined binset in the wavecat table. The waveset of the spectrum will be used instead.\n",
      "(W1) does not have a defined binset in the wavecat table. The waveset of the spectrum will be used instead.\n",
      "(W2) does not have a defined binset in the wavecat table. The waveset of the spectrum will be used instead.\n"
     ]
    }
   ],
   "source": [
    "loggs = np.linspace(0,3.0,20)\n",
    "gw1w2s = []\n",
    "for logg in loggs:\n",
    "    sp = S.Icat('phoenix', 3500, 0, logg)\n",
    "    W1obs = S.Observation(sp, W1)\n",
    "    W2obs = S.Observation(sp, W2)\n",
    "    gw1w2s.append(W1obs.effstim('abmag')-W1obs.effstim('abmag'))\n",
    "\n",
    "Ts = np.linspace(3000,4500,20)\n",
    "Tw1w2s = []\n",
    "for T in Ts:\n",
    "    sp = S.Icat('phoenix', T, 0, 0.0)\n",
    "    W1obs = S.Observation(sp, W1)\n",
    "    W2obs = S.Observation(sp, W2)\n",
    "    Tw1w2s.append(W1obs.effstim('abmag')-W1obs.effstim('abmag'))"
   ]
  },
  {
   "cell_type": "code",
   "execution_count": null,
   "metadata": {},
   "outputs": [],
   "source": []
  }
 ],
 "metadata": {
  "kernelspec": {
   "display_name": "Python [default]",
   "language": "python",
   "name": "python3"
  },
  "language_info": {
   "codemirror_mode": {
    "name": "ipython",
    "version": 3
   },
   "file_extension": ".py",
   "mimetype": "text/x-python",
   "name": "python",
   "nbconvert_exporter": "python",
   "pygments_lexer": "ipython3",
   "version": "3.5.6"
  }
 },
 "nbformat": 4,
 "nbformat_minor": 2
}
