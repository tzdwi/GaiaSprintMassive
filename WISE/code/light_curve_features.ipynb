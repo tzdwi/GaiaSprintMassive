{
 "cells": [
  {
   "cell_type": "code",
   "execution_count": 4,
   "metadata": {},
   "outputs": [],
   "source": [
    "import numpy as np, pandas as pd\n",
    "from glob import glob\n",
    "from matplotlib import pyplot as plt\n",
    "from scipy.optimize import minimize\n",
    "from WISE_tools import *\n",
    "from scipy.stats import *\n",
    "from astroML.time_series import ACF_EK\n",
    "\n",
    "%matplotlib inline"
   ]
  },
  {
   "cell_type": "markdown",
   "metadata": {},
   "source": [
    "# We're going to try to extract features from lightcurves that can be used to classify lightcurves. We're going to use "
   ]
  },
  {
   "cell_type": "code",
   "execution_count": 2,
   "metadata": {},
   "outputs": [],
   "source": [
    "unique_names = parse_source_names('test_data/')"
   ]
  },
  {
   "cell_type": "code",
   "execution_count": 3,
   "metadata": {},
   "outputs": [
    {
     "name": "stdout",
     "output_type": "stream",
     "text": [
      "J215803.09+485330.7\n"
     ]
    },
    {
     "data": {
      "image/png": "[encoded data removed]",
      "text/plain": [
       "<matplotlib.figure.Figure at 0x1a142c3e80>"
      ]
     },
     "metadata": {},
     "output_type": "display_data"
    }
   ],
   "source": [
    "#Try accessing and concatenating lightcurves\n",
    "for name in unique_names[1:]:\n",
    "    print(name)\n",
    "    \n",
    "    df = get_lightcurve(name, 'test_data/')\n",
    "    \n",
    "    plt.errorbar(df['mjd'], df['w1mpro'], yerr=df['w1sigmpro'],\n",
    "                 marker='o', linestyle='none', alpha=0.25)\n",
    "plt.gca().invert_yaxis()"
   ]
  },
  {
   "cell_type": "code",
   "execution_count": 7,
   "metadata": {},
   "outputs": [],
   "source": [
    "mjd,W1,W1err = df['mjd'].values, df['w1mpro'].values, df['w1sigmpro'].values"
   ]
  },
  {
   "cell_type": "code",
   "execution_count": 9,
   "metadata": {},
   "outputs": [],
   "source": [
    "def extract_features(t, y, err):\n",
    "    \"\"\"\n",
    "    Following Richards et al. (2011), calculates some summary statistics from the \n",
    "    lightcurves. TODO: output errors on all of these as well?\n",
    "\n",
    "    Parameters\n",
    "    ----------\n",
    "    t : array-like\n",
    "        times\n",
    "    y : array-like\n",
    "        magnitudes\n",
    "    err : array-like\n",
    "        errors on y\n",
    "    \n",
    "    Returns\n",
    "    -------\n",
    "    feature_list : list\n",
    "        List of features that can be extracted from the lightcurve\n",
    "    \"\"\"\n",
    "    \n",
    "    #Feature 1: skew\n",
    "    \n",
    "    magskew = skew(y)\n",
    "    \n",
    "    #Feature 2: kurtosis\n",
    "    \n",
    "    magkurt = kurtosis(y)\n",
    "    \n",
    "    #Feature 3: standard deviation of mags\n",
    "    \n",
    "    magstd = np.std(y)\n",
    "    \n",
    "    #Feature 4: fraction of measurements >=1 std above/below mean\n",
    "    \n",
    "    z_scores = np.abs((y - np.mean(y))/magstd)\n",
    "    beyond1std = len(z_scores[z_scores >= 1])/len(z_scores)\n",
    "    \n",
    "    #Feature 5: largest slope between two successive points\n",
    "    dms = np.diff(y)\n",
    "    dts = np.diff(t)\n",
    "    \n",
    "    maxslope = np.max(np.abs(dms/dts))\n",
    "    \n",
    "    #Feature 6: Range of data\n",
    "    \n",
    "    amplitude = np.max(y) - np.min(y)\n",
    "    \n",
    "    #Feature 7: median absolute deviation\n",
    "    \n",
    "    mad = np.median(np.abs(y - np.median(y)))\n",
    "    \n",
    "    #Feature 8: Median buffer range percentage\n",
    "    \n",
    "    buffer = np.abs((y - np.median(y))/amplitude)\n",
    "    \n",
    "    mbrf = len(buffer[buffer>= 0.1])/len(buffer)\n",
    "    \n",
    "    #Feature 9: fraction of y_i brighter than y_i-1 minus fraction y_i fainter than y_i-1\n",
    "    \n",
    "    bright_num = len(dms[dms <= 0])\n",
    "    faint_num = len(dms[dms > 0])\n",
    "    pair_slope_trend = (bright_num - faint_num)/len(dms)\n",
    "    \n",
    "    #Features 10-14: In flux: y-xth percentile range, scaled by 5-95th percentile range\n",
    "    f = np.power(10.0,-0.4*y)\n",
    "    range_mid_90 = np.percentile(f,95.0) - np.percentile(f,5.0)\n",
    "    range_mid_80 = np.percentile(f,90.0) - np.percentile(f,10.0)\n",
    "    range_mid_65 = np.percentile(f,82.5) - np.percentile(f,17.5)\n",
    "    range_mid_50 = np.percentile(f,75.0) - np.percentile(f,25.0)\n",
    "    range_mid_35 = np.percentile(f,67.5) - np.percentile(f,32.5)\n",
    "    range_mid_20 = np.percentile(f,60.0) - np.percentile(f,40.0)\n",
    "    \n",
    "    flux_percentile_ratio_mid20 = range_mid_20 / range_mid_90\n",
    "    flux_percentile_ratio_mid35 = range_mid_35 / range_mid_90\n",
    "    flux_percentile_ratio_mid50 = range_mid_50 / range_mid_90\n",
    "    flux_percentile_ratio_mid65 = range_mid_65 / range_mid_90\n",
    "    flux_percentile_ratio_mid80 = range_mid_80 / range_mid_90\n",
    "    \n",
    "    #Feature 15: largest absolute departure from median flux, divided by median flux\n",
    "    \n",
    "    percent_amplitude = np.max(np.abs(f - np.median(f)))/np.median(f)\n",
    "    \n",
    "    #Feature 16: 5-95th percentile flux range over the median flux.\n",
    "    \n",
    "    percent_difference_flux_percentile = range_mid_90 / np.median(f)\n",
    "    \n",
    "    #Feature 17: rough approximation of autocorrelation time\n",
    "    \n",
    "    C_EK, C_EK_err, bins = ACF_EK(t, y, err, bins=np.linspace(0, (np.max(t)-np.min(t))/2, 50))\n",
    "    t_EK = 0.5 * (bins[1:] + bins[:-1])\n",
    "    #fit a line to C_EK vs. t_EK\n",
    "    p = np.polyfit(t_EK[~np.isnan(C_EK)], C_EK[~np.isnan(C_EK)], deg=1, w=1/C_EK_err[~np.isnan(C_EK)])\n",
    "    AC_time = (np.exp(-1) - p[1])/p[0]\n",
    "    \n",
    "    \n",
    "    feature_list = [magskew, magkurt, magstd, beyond1std, maxslope, amplitude, mad, mbrf, \n",
    "            pair_slope_trend, flux_percentile_ratio_mid20, flux_percentile_ratio_mid35,\n",
    "            flux_percentile_ratio_mid50, flux_percentile_ratio_mid65, \n",
    "            flux_percentile_ratio_mid80, percent_amplitude, percent_difference_flux_percentile,\n",
    "            AC_time]\n",
    "    \n",
    "    return feature_list"
   ]
  },
  {
   "cell_type": "code",
   "execution_count": 10,
   "metadata": {},
   "outputs": [
    {
     "name": "stderr",
     "output_type": "stream",
     "text": [
      "/Users/carina/anaconda/lib/python3.5/site-packages/astroML/time_series/ACF.py:133: RuntimeWarning: invalid value encountered in true_divide\n",
      "  ACF /= M\n",
      "/Users/carina/anaconda/lib/python3.5/site-packages/astroML/time_series/ACF.py:135: RuntimeWarning: divide by zero encountered in true_divide\n",
      "  return ACF, np.sqrt(2. / M), bins\n"
     ]
    },
    {
     "data": {
      "text/plain": [
       "[-0.9538278579233433,\n",
       " -0.3977161700450247,\n",
       " 0.26312666108954447,\n",
       " 0.23308270676691728,\n",
       " 811.0236262728968,\n",
       " 0.9049999999999994,\n",
       " 0.125,\n",
       " 0.5413533834586466,\n",
       " -0.030303030303030304,\n",
       " 0.0365684967024534,\n",
       " 0.10361797463206097,\n",
       " 0.4195021982035201,\n",
       " 0.5101029754973041,\n",
       " 0.9409767621621841,\n",
       " 0.9142559250210858,\n",
       " 0.9629716745857481,\n",
       " 428.21234833772303]"
      ]
     },
     "execution_count": 10,
     "metadata": {},
     "output_type": "execute_result"
    }
   ],
   "source": [
    "extract_features(mjd, W1, W1err)"
   ]
  },
  {
   "cell_type": "code",
   "execution_count": 11,
   "metadata": {},
   "outputs": [],
   "source": [
    "#This isn't too hard to calculate. What if we use someone else's python library?\n",
    "#FATS: FEATURE ANALYSIS FOR TIME SERIES, Nun et al. (2015), arXiv:1506.00010"
   ]
  },
  {
   "cell_type": "code",
   "execution_count": null,
   "metadata": {},
   "outputs": [],
   "source": []
  }
 ],
 "metadata": {
  "kernelspec": {
   "display_name": "Python [default]",
   "language": "python",
   "name": "python3"
  },
  "language_info": {
   "codemirror_mode": {
    "name": "ipython",
    "version": 3
   },
   "file_extension": ".py",
   "mimetype": "text/x-python",
   "name": "python",
   "nbconvert_exporter": "python",
   "pygments_lexer": "ipython3",
   "version": "3.5.1"
  }
 },
 "nbformat": 4,
 "nbformat_minor": 2
}
