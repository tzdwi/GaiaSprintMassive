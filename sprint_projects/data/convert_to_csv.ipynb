{
 "cells": [
  {
   "cell_type": "code",
   "execution_count": 79,
   "metadata": {},
   "outputs": [],
   "source": [
    "from astropy.io import fits\n",
    "from astropy.table import Table, Column\n",
    "import pandas as pd\n",
    "import numpy as np"
   ]
  },
  {
   "cell_type": "code",
   "execution_count": 129,
   "metadata": {},
   "outputs": [],
   "source": [
    "def hms_to_deg(hms):\n",
    "    h,m,s = map(float,hms.split())\n",
    "    sign = hms[0]\n",
    "    deg = 15*(abs(h) + m/60.0 + s/3600.0)\n",
    "    if sign == '-':\n",
    "        return -1.0*deg\n",
    "    else:\n",
    "        return deg\n",
    "    \n",
    "def dms_to_deg(dms):\n",
    "    d,m,s = map(float,dms.split())\n",
    "    sign = dms[0]\n",
    "    deg = abs(d) + m/60.0 + s/3600.0\n",
    "    if sign == '-':\n",
    "        return -1.0*deg\n",
    "    else:\n",
    "        return deg"
   ]
  },
  {
   "cell_type": "code",
   "execution_count": 136,
   "metadata": {},
   "outputs": [],
   "source": [
    "Ostars = Table.read('MaizApellaniz_Ostars.fits')\n",
    "Ostars.add_column(Column(data=[hms_to_deg(hms) for hms in Ostars['RAJ20002']],name='ra'))\n",
    "Ostars.add_column(Column(data=[dms_to_deg(dms) for dms in Ostars['DEJ20002']],name='dec'))\n",
    "Ostars.write('MaizApellaniz04_Ostars.csv',overwrite=True)"
   ]
  },
  {
   "cell_type": "code",
   "execution_count": null,
   "metadata": {},
   "outputs": [],
   "source": []
  }
 ],
 "metadata": {
  "kernelspec": {
   "display_name": "Python [default]",
   "language": "python",
   "name": "python3"
  },
  "language_info": {
   "codemirror_mode": {
    "name": "ipython",
    "version": 3
   },
   "file_extension": ".py",
   "mimetype": "text/x-python",
   "name": "python",
   "nbconvert_exporter": "python",
   "pygments_lexer": "ipython3",
   "version": "3.5.1"
  }
 },
 "nbformat": 4,
 "nbformat_minor": 2
}
