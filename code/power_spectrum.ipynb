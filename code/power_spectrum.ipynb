{
 "cells": [
  {
   "cell_type": "code",
   "execution_count": 1,
   "metadata": {},
   "outputs": [],
   "source": [
    "import numpy as np, pandas as pd\n",
    "from glob import glob\n",
    "from matplotlib import pyplot as plt\n",
    "from scipy.optimize import minimize\n",
    "from WISE_tools import *\n",
    "from astropy.stats import LombScargle\n",
    "\n",
    "%matplotlib inline"
   ]
  },
  {
   "cell_type": "code",
   "execution_count": 2,
   "metadata": {},
   "outputs": [],
   "source": [
    "unique_names = parse_source_names('test_data/')"
   ]
  },
  {
   "cell_type": "code",
   "execution_count": 3,
   "metadata": {},
   "outputs": [
    {
     "name": "stdout",
     "output_type": "stream",
     "text": [
      "J215803.09+485330.7\n"
     ]
    },
    {
     "data": {
      "image/png": "[encoded data removed]",
      "text/plain": [
       "<matplotlib.figure.Figure at 0x15140379b0>"
      ]
     },
     "metadata": {},
     "output_type": "display_data"
    }
   ],
   "source": [
    "#Try accessing and concatenating lightcurves\n",
    "for name in unique_names[1:]:\n",
    "    print(name)\n",
    "    \n",
    "    df = get_lightcurve(name, 'test_data/')\n",
    "    \n",
    "    plt.errorbar(df['mjd'], df['w1mpro'], yerr=df['w1sigmpro'],\n",
    "                 marker='o', linestyle='none', alpha=0.25)\n",
    "plt.gca().invert_yaxis()"
   ]
  },
  {
   "cell_type": "code",
   "execution_count": 14,
   "metadata": {},
   "outputs": [],
   "source": [
    "mjds = []\n",
    "W1s = []\n",
    "W1errs = []\n",
    "for name in unique_names:\n",
    "    df = get_lightcurve(name, 'test_data/')\n",
    "    mjd,W1,W1err = df['mjd'].values, df['w1mpro'].values, df['w1sigmpro'].values\n",
    "    mjds.append(mjd)\n",
    "    W1s.append(W1)\n",
    "    W1errs.append(W1err)"
   ]
  },
  {
   "cell_type": "code",
   "execution_count": null,
   "metadata": {},
   "outputs": [],
   "source": [
    "W1_f, W1_p = LombScargle(mjd, W1, W1err).autopower()"
   ]
  },
  {
   "cell_type": "code",
   "execution_count": null,
   "metadata": {},
   "outputs": [],
   "source": [
    "plt.plot(1/W1_f, W1_p)\n",
    "plt.xscale('log')"
   ]
  },
  {
   "cell_type": "code",
   "execution_count": 18,
   "metadata": {},
   "outputs": [],
   "source": [
    "from astroML.time_series import ACF_scargle, ACF_EK"
   ]
  },
  {
   "cell_type": "code",
   "execution_count": 24,
   "metadata": {},
   "outputs": [
    {
     "name": "stderr",
     "output_type": "stream",
     "text": [
      "/Users/carina/anaconda/lib/python3.5/site-packages/astroML/time_series/ACF.py:133: RuntimeWarning: invalid value encountered in true_divide\n",
      "  ACF /= M\n",
      "/Users/carina/anaconda/lib/python3.5/site-packages/astroML/time_series/ACF.py:135: RuntimeWarning: divide by zero encountered in true_divide\n",
      "  return ACF, np.sqrt(2. / M), bins\n"
     ]
    },
    {
     "data": {
      "image/png": "[encoded data removed]",
      "text/plain": [
       "<matplotlib.figure.Figure at 0x151d23d4a8>"
      ]
     },
     "metadata": {},
     "output_type": "display_data"
    }
   ],
   "source": [
    "for mjd,W1,W1err,name in zip(mjds,W1s,W1errs,unique_names):\n",
    "    C_EK, C_EK_err, bins = ACF_EK(mjd, W1, W1err, bins=np.linspace(0, (max(mjd)-min(mjd))/2, 50))\n",
    "    t_EK = 0.5 * (bins[1:] + bins[:-1])\n",
    "\n",
    "    plt.errorbar(t_EK, C_EK, C_EK_err, fmt = '.', lw=1,\n",
    "                label=name)\n",
    "    plt.legend(loc=3)"
   ]
  },
  {
   "cell_type": "code",
   "execution_count": null,
   "metadata": {},
   "outputs": [],
   "source": []
  }
 ],
 "metadata": {
  "kernelspec": {
   "display_name": "Python [default]",
   "language": "python",
   "name": "python3"
  },
  "language_info": {
   "codemirror_mode": {
    "name": "ipython",
    "version": 3
   },
   "file_extension": ".py",
   "mimetype": "text/x-python",
   "name": "python",
   "nbconvert_exporter": "python",
   "pygments_lexer": "ipython3",
   "version": "3.5.1"
  }
 },
 "nbformat": 4,
 "nbformat_minor": 2
}
