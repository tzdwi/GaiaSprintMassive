{
 "cells": [
  {
   "cell_type": "code",
   "execution_count": 1,
   "metadata": {},
   "outputs": [],
   "source": [
    "from __future__ import print_function, absolute_import\n",
    "from WISE_tools import *\n",
    "import FATS, pandas as pd, numpy as np\n",
    "from multiprocessing import Pool\n",
    "from sklearn.model_selection import GridSearchCV\n",
    "from sklearn.neighbors import KernelDensity\n",
    "from astropy.modeling.functional_models import Gaussian2D\n",
    "from astropy.modeling import fitting\n",
    "from scipy.odr import *\n",
    "from sklearn.metrics import r2_score"
   ]
  },
  {
   "cell_type": "code",
   "execution_count": 2,
   "metadata": {},
   "outputs": [],
   "source": [
    "from pebble import ProcessPool\n",
    "from concurrent.futures import TimeoutError"
   ]
  },
  {
   "cell_type": "code",
   "execution_count": 3,
   "metadata": {},
   "outputs": [],
   "source": [
    "unique_names = parse_source_names('../data/bright_blue_lightcurves/data/')"
   ]
  },
  {
   "cell_type": "code",
   "execution_count": 4,
   "metadata": {},
   "outputs": [],
   "source": [
    "def KDE_fit(x,y):\n",
    "    \"\"\"\n",
    "    A function that performs a gaussian KDE on x/y data, then fits the result with a sum\n",
    "    of 2 2D gaussians\n",
    "    \n",
    "    Parameters\n",
    "    ----------\n",
    "    x : array-like\n",
    "        x data\n",
    "    y : array-like\n",
    "        y data\n",
    "        \n",
    "    Returns\n",
    "    -------\n",
    "    KDE_bandwidth : float\n",
    "        Cross-validated kernel bandwidth\n",
    "    KD_fit_sqresid : float\n",
    "        The mean squared residual (fit - KDE)^2\n",
    "    amp_0 : float\n",
    "        amplitude of largest gaussian\n",
    "    xmean_0 : float\n",
    "        x mean of largest gaussian\n",
    "    ymean_0 : float\n",
    "        y mean of largest gaussian\n",
    "    major_std_0 : float\n",
    "        Standard deviation along major axis of largest gaussian\n",
    "    theta_0 : float\n",
    "        Radians between positive X-axis and the major axis of the largest gaussian\n",
    "    ecc_0 : float\n",
    "        Eccentricity of an ellipse, taken at an arbitrary height of the largest gaussian\n",
    "    amp_1 : float\n",
    "        amplitude of smallest gaussian\n",
    "    xmean_1 : float\n",
    "        x mean of smallest gaussian\n",
    "    ymean_1 : float\n",
    "        y mean of smallest gaussian\n",
    "    major_std_1 : float\n",
    "        Standard deviation along major axis of smallest gaussian\n",
    "    theta_1 : float\n",
    "        Radians between positive X-axis and the major axis of the largest gaussian\n",
    "    ecc_1 : float\n",
    "        Eccentricity of an ellipse, taken at an arbitrary height of the smallest gaussian\n",
    "    \"\"\"\n",
    "    \n",
    "    data = np.vstack([x, y]).T\n",
    "    #Grid search for best KDE bandwidth\n",
    "    params = {'bandwidth': np.linspace(np.min(np.diff(y)),np.max(np.diff(y)),100)}\n",
    "    grid = GridSearchCV(KernelDensity(), params)\n",
    "    grid.fit(data)\n",
    "    \n",
    "    KDE_bandwidth = grid.best_estimator_.bandwidth\n",
    "    \n",
    "    kde = grid.best_estimator_\n",
    "    X, Y = np.meshgrid(np.linspace(np.min(x),np.max(x),100), np.linspace(np.min(y),np.max(y),100))\n",
    "\n",
    "    xy = np.vstack([X.ravel(), Y.ravel()]).T\n",
    "    #compute the KDE on a 100x100 grid of points\n",
    "    Z = np.exp(kde.score_samples(xy)).reshape(X.shape)\n",
    "    \n",
    "    #fit KDE estimation with 2 Gaussian model\n",
    "    g2D_init1 = Gaussian2D(amplitude=np.max(Z), x_mean=X[np.unravel_index(np.argmax(Z),Z.shape)], y_mean=Y[np.unravel_index(np.argmax(Z),Z.shape)], x_stddev=np.std(x), y_stddev=np.std(y), theta=0, bounds={'theta': (0,np.pi),'x_mean': (np.min(x),np.max(x)),'y_mean': (np.min(y),np.max(y)),'x_stddev':(0.001,1),'y_stddev':(0.001,1)})\n",
    "    g2D_init2 = Gaussian2D(amplitude=np.median(Z), x_mean=np.median(x), y_mean=np.median(y), x_stddev=np.std(x), y_stddev=np.std(y), theta=0, bounds={'theta': (0,np.pi),'x_mean': (np.min(x),np.max(x)),'y_mean': (np.min(y),np.max(y)),'x_stddev':(0.001,1),'y_stddev':(0.001,1)})\n",
    "    g2D_init = g2D_init1 + g2D_init2\n",
    "\n",
    "    fitter = fitting.LevMarLSQFitter()\n",
    "    \n",
    "    g2D = fitter(g2D_init, X, Y, Z)\n",
    "    \n",
    "    KD_fit_sqresid = np.mean(np.power(Z-g2D(X,Y),2.0))\n",
    "    \n",
    "    #Sort by largest and smallest amplitude gaussian\n",
    "    i_large = np.argmax([g2D.amplitude_0,g2D.amplitude_1])\n",
    "    i_small = np.argmin([g2D.amplitude_0,g2D.amplitude_1])\n",
    "    g2D_large = g2D[i_large]\n",
    "    g2D_small = g2D[i_small]\n",
    "    \n",
    "    amp_0 = g2D_large.amplitude.value\n",
    "    amp_1 = g2D_small.amplitude.value\n",
    "    \n",
    "    xmean_0 = g2D_large.x_mean.value\n",
    "    xmean_1 = g2D_small.x_mean.value\n",
    "    \n",
    "    ymean_0 = g2D_large.y_mean.value\n",
    "    ymean_1 = g2D_small.y_mean.value\n",
    "    \n",
    "    if g2D_large.x_stddev >= g2D_large.y_stddev:\n",
    "        \n",
    "        major_std_0 = g2D_large.x_stddev.value\n",
    "        theta_0 = g2D_large.theta.value\n",
    "        ecc_0 = np.sqrt(1.0 - (g2D_large.y_stddev.value/g2D_large.x_stddev.value)**2.0)\n",
    "    \n",
    "    else:\n",
    "        \n",
    "        major_std_0 = g2D_large.y_stddev.value\n",
    "        \n",
    "        if g2D_large.theta <= np.pi/2:\n",
    "            theta_0 = np.pi/2 + g2D_large.theta.value\n",
    "            \n",
    "        elif g2D_large.theta > np.pi/2:\n",
    "            theta_0 = g2D_large.theta.value - np.pi/2\n",
    "             \n",
    "        ecc_0 = np.sqrt(1.0 - (g2D_large.x_stddev.value/g2D_large.y_stddev.value)**2.0)\n",
    "        \n",
    "    if g2D_small.x_stddev >= g2D_small.y_stddev:\n",
    "        \n",
    "        major_std_1 = g2D_small.x_stddev.value\n",
    "        theta_1 = g2D_small.theta.value\n",
    "        ecc_1 = np.sqrt(1.0 - (g2D_small.y_stddev.value/g2D_small.x_stddev.value)**2.0)\n",
    "    \n",
    "    else:\n",
    "        \n",
    "        major_std_1 = g2D_small.y_stddev.value\n",
    "        \n",
    "        if g2D_small.theta <= np.pi/2:\n",
    "            theta_1 = np.pi/2 + g2D_small.theta.value\n",
    "            \n",
    "        elif g2D_small.theta > np.pi/2:\n",
    "            theta_1 = g2D_small.theta.value - np.pi/2\n",
    "             \n",
    "        ecc_1 = np.sqrt(1.0 - (g2D_small.x_stddev.value/g2D_small.y_stddev.value)**2.0)\n",
    "        \n",
    "    return (KDE_bandwidth, KD_fit_sqresid, amp_0, xmean_0, ymean_0, major_std_0, theta_0,\n",
    "            ecc_0, amp_1, xmean_1, ymean_1, major_std_1, theta_1, ecc_1)"
   ]
  },
  {
   "cell_type": "code",
   "execution_count": 5,
   "metadata": {},
   "outputs": [],
   "source": [
    "def line(p, x):\n",
    "    m, b = p\n",
    "    return m*x + b"
   ]
  },
  {
   "cell_type": "code",
   "execution_count": 6,
   "metadata": {},
   "outputs": [],
   "source": [
    "def linear_CMD_fit(x,y,xerr,yerr):\n",
    "    \"\"\"\n",
    "    Does a linear fit to CMD data where x is color and y is amplitude, returning some fit \n",
    "    statistics\n",
    "    \n",
    "    Parameters\n",
    "    ----------\n",
    "    x : array-like\n",
    "        color\n",
    "    y : array-like\n",
    "        magnitude\n",
    "    xerr : array-like\n",
    "        color errors\n",
    "    yerr : array-like\n",
    "        magnitude errors\n",
    "    \n",
    "    Returns\n",
    "    -------\n",
    "    slope : float\n",
    "        slope of best-fit line\n",
    "    r_squared : float\n",
    "        Correlation coefficient (R^2)\n",
    "    \"\"\"\n",
    "    \n",
    "    data = RealData(x, y, sx=xerr, sy=yerr)\n",
    "    \n",
    "    mod = Model(line)\n",
    "    \n",
    "    odr = ODR(data, mod, beta0=[-0.1, np.mean(y)])\n",
    "    out = odr.run()\n",
    "    \n",
    "    slope = out.beta[0]\n",
    "    \n",
    "    r_squared = r2_score(y, line(out.beta, x))\n",
    "    \n",
    "    return slope, r_squared"
   ]
  },
  {
   "cell_type": "code",
   "execution_count": 312,
   "metadata": {},
   "outputs": [
    {
     "data": {
      "text/plain": [
       "(10.1, 9.0)"
      ]
     },
     "execution_count": 312,
     "metadata": {},
     "output_type": "execute_result"
    },
    {
     "data": {
      "image/png": "[encoded data removed]",
      "text/plain": [
       "<matplotlib.figure.Figure at 0x1c2597cdd0>"
      ]
     },
     "metadata": {},
     "output_type": "display_data"
    }
   ],
   "source": [
    "x = df['w1mpro'].values - df['w2mpro'].values\n",
    "xerr = np.sqrt(df['w1sigmpro'].values*df['w1sigmpro'].values + df['w2sigmpro'].values*df['w2sigmpro'].values)\n",
    "\n",
    "y = df['w1mpro'].values\n",
    "yerr = df['w1sigmpro'].values\n",
    "s,r,b = linear_CMD_fit(x, y, xerr, yerr)\n",
    "plt.errorbar(x,y,xerr=xerr,yerr=yerr,fmt='.k')\n",
    "xtest = np.linspace(np.min(x),np.max(x),100)\n",
    "plt.plot(xtest,line(b,xtest))\n",
    "plt.xlim(-0.1,0.35)\n",
    "plt.ylim(10.1,9.0)"
   ]
  },
  {
   "cell_type": "code",
   "execution_count": 7,
   "metadata": {},
   "outputs": [],
   "source": [
    "def get_features(name):\n",
    "    \"\"\"\n",
    "    A function that is given a name, and then outputs all 68 features (plus the name)\n",
    "    in a handy pandas dataframe.\n",
    "    \n",
    "    Parameter\n",
    "    ---------\n",
    "    Name : str\n",
    "        WISE source name output by WISE_tools.parse_source_names\n",
    "        \n",
    "    Returns\n",
    "    -------\n",
    "    features : `~pandas.DataFrame`\n",
    "        Dataframe of all 68 features, plus a column for the name.\n",
    "    \"\"\"\n",
    "    \n",
    "    df = get_lightcurve(name, '../data/bright_blue_lightcurves/data/')\n",
    "    lc = np.array([df['w1mpro'].values,df['mjd'].values,df['w1sigmpro'].values,\n",
    "                df['w2mpro'].values,df['w1mpro'].values,df['w2mpro'].values,\n",
    "                df['mjd'].values,df['w1sigmpro'].values,df['w2sigmpro'].values])\n",
    "    \n",
    "    a = FATS.FeatureSpace(Data=['magnitude', 'time', 'error', 'magnitude2', 'error2'],\n",
    "                           excludeList=[])\n",
    "    a.calculateFeature(lc)\n",
    "    result = a.result('dict')\n",
    "    \n",
    "    #Now let's add our own features\n",
    "    #KDE in CMD space\n",
    "    x = df['w1mpro'].values - df['w2mpro'].values\n",
    "    xerr = np.sqrt(df['w1sigmpro'].values*df['w1sigmpro'].values + df['w2sigmpro'].values*df['w2sigmpro'].values)\n",
    "    \n",
    "    y = df['w1mpro'].values\n",
    "    yerr = df['w1sigmpro'].values\n",
    "    \n",
    "    (KDE_bandwidth, KD_fit_sqresid, amp_0, xmean_0, ymean_0, major_std_0, theta_0,\n",
    "            ecc_0, amp_1, xmean_1, ymean_1, major_std_1, theta_1, ecc_1) = KDE_fit(x,y)\n",
    "    \n",
    "    result['KDE_bandwidth'] = KDE_bandwidth\n",
    "    result['KD_fit_sqresid'] = KD_fit_sqresid\n",
    "    result['KD_amp_0'] = amp_0\n",
    "    result['KD_xmean_0'] = xmean_0\n",
    "    result['KD_ymean_0'] = ymean_0\n",
    "    result['KD_major_std_0'] = major_std_0\n",
    "    result['KD_theta_0'] = theta_0\n",
    "    result['KD_ecc_0'] = ecc_0\n",
    "    result['KD_amp_1'] = amp_1\n",
    "    result['KD_xmean_1'] = xmean_1\n",
    "    result['KD_ymean_1'] = ymean_1\n",
    "    result['KD_major_std_1'] = major_std_1\n",
    "    result['KD_theta_1'] = theta_1\n",
    "    result['KD_ecc_1'] = ecc_1\n",
    "    \n",
    "    slope, r_squared = linear_CMD_fit(x, y, xerr, yerr)\n",
    "    result['CMD_slope'] = slope\n",
    "    result['CMD_r_squared'] = r_squared\n",
    "    \n",
    "    result['Name'] = name\n",
    "    \n",
    "    return pd.DataFrame(data=np.array(result.values()).reshape(1,len(result.values())), \n",
    "                        columns=result.keys())"
   ]
  },
  {
   "cell_type": "code",
   "execution_count": 12,
   "metadata": {},
   "outputs": [
    {
     "name": "stderr",
     "output_type": "stream",
     "text": [
      "/Users/carina/anaconda/envs/iraf27/lib/python2.7/site-packages/scipy/optimize/_minimize.py:430: RuntimeWarning: Method powell cannot handle constraints nor bounds.\n",
      "  RuntimeWarning)\n",
      "/Users/carina/anaconda/envs/iraf27/lib/python2.7/site-packages/scipy/optimize/_minimize.py:430: RuntimeWarning: Method powell cannot handle constraints nor bounds.\n",
      "  RuntimeWarning)\n",
      "/Users/carina/anaconda/envs/iraf27/lib/python2.7/site-packages/FATS/FeatureFunctionLib.py:927: RuntimeWarning: overflow encountered in exp\n",
      "  a_new = np.exp(-(t[i] - t[i - 1]) / tau)\n",
      "/Users/carina/anaconda/envs/iraf27/lib/python2.7/site-packages/FATS/FeatureFunctionLib.py:932: RuntimeWarning: invalid value encountered in add\n",
      "  (x_ast[i - 1] - x_hat[i - 1]))\n",
      "/Users/carina/anaconda/envs/iraf27/lib/python2.7/site-packages/FATS/FeatureFunctionLib.py:931: RuntimeWarning: invalid value encountered in divide\n",
      "  (a_new * Omega[i - 1] / (Omega[i - 1] + error_vars[i - 1])) *\n",
      "/Users/carina/anaconda/envs/iraf27/lib/python2.7/site-packages/FATS/FeatureFunctionLib.py:936: RuntimeWarning: invalid value encountered in divide\n",
      "  (1 - (Omega[i - 1] / (Omega[i - 1] + error_vars[i - 1]))))\n",
      "/Users/carina/anaconda/envs/iraf27/lib/python2.7/site-packages/FATS/FeatureFunctionLib.py:945: RuntimeWarning: invalid value encountered in power\n",
      "  ((2 * np.pi * (Omega[i] + error_vars[i])) ** -0.5) *\n",
      "/Users/carina/anaconda/envs/iraf27/lib/python2.7/site-packages/FATS/FeatureFunctionLib.py:935: RuntimeWarning: overflow encountered in square\n",
      "  Omega[0] * (1 - (a_new ** 2)) + ((a_new ** 2)) * Omega[i - 1] *\n",
      "/Users/carina/anaconda/envs/iraf27/lib/python2.7/site-packages/FATS/FeatureFunctionLib.py:946: RuntimeWarning: overflow encountered in square\n",
      "  (np.exp(-0.5 * (((x_hat[i] - x_ast[i]) ** 2) /\n",
      "/Users/carina/anaconda/envs/iraf27/lib/python2.7/site-packages/FATS/FeatureFunctionLib.py:947: RuntimeWarning: invalid value encountered in divide\n",
      "  (Omega[i] + error_vars[i]))) + epsilon))\n",
      "/Users/carina/anaconda/envs/iraf27/lib/python2.7/site-packages/scipy/optimize/_minimize.py:430: RuntimeWarning: Method powell cannot handle constraints nor bounds.\n",
      "  RuntimeWarning)\n",
      "/Users/carina/anaconda/envs/iraf27/lib/python2.7/site-packages/FATS/FeatureFunctionLib.py:927: RuntimeWarning: overflow encountered in exp\n",
      "  a_new = np.exp(-(t[i] - t[i - 1]) / tau)\n",
      "/Users/carina/anaconda/envs/iraf27/lib/python2.7/site-packages/FATS/FeatureFunctionLib.py:932: RuntimeWarning: invalid value encountered in add\n",
      "  (x_ast[i - 1] - x_hat[i - 1]))\n",
      "/Users/carina/anaconda/envs/iraf27/lib/python2.7/site-packages/FATS/FeatureFunctionLib.py:931: RuntimeWarning: invalid value encountered in divide\n",
      "  (a_new * Omega[i - 1] / (Omega[i - 1] + error_vars[i - 1])) *\n",
      "/Users/carina/anaconda/envs/iraf27/lib/python2.7/site-packages/FATS/FeatureFunctionLib.py:936: RuntimeWarning: invalid value encountered in divide\n",
      "  (1 - (Omega[i - 1] / (Omega[i - 1] + error_vars[i - 1]))))\n",
      "/Users/carina/anaconda/envs/iraf27/lib/python2.7/site-packages/FATS/FeatureFunctionLib.py:936: RuntimeWarning: invalid value encountered in multiply\n",
      "  (1 - (Omega[i - 1] / (Omega[i - 1] + error_vars[i - 1]))))\n",
      "/Users/carina/anaconda/envs/iraf27/lib/python2.7/site-packages/FATS/FeatureFunctionLib.py:935: RuntimeWarning: overflow encountered in square\n",
      "  Omega[0] * (1 - (a_new ** 2)) + ((a_new ** 2)) * Omega[i - 1] *\n",
      "/Users/carina/anaconda/envs/iraf27/lib/python2.7/site-packages/FATS/FeatureFunctionLib.py:946: RuntimeWarning: overflow encountered in square\n",
      "  (np.exp(-0.5 * (((x_hat[i] - x_ast[i]) ** 2) /\n",
      "/Users/carina/anaconda/envs/iraf27/lib/python2.7/site-packages/FATS/FeatureFunctionLib.py:947: RuntimeWarning: invalid value encountered in divide\n",
      "  (Omega[i] + error_vars[i]))) + epsilon))\n",
      "/Users/carina/anaconda/envs/iraf27/lib/python2.7/site-packages/scipy/optimize/_minimize.py:430: RuntimeWarning: Method powell cannot handle constraints nor bounds.\n",
      "  RuntimeWarning)\n",
      "/Users/carina/anaconda/envs/iraf27/lib/python2.7/site-packages/FATS/FeatureFunctionLib.py:927: RuntimeWarning: overflow encountered in exp\n",
      "  a_new = np.exp(-(t[i] - t[i - 1]) / tau)\n",
      "/Users/carina/anaconda/envs/iraf27/lib/python2.7/site-packages/FATS/FeatureFunctionLib.py:932: RuntimeWarning: invalid value encountered in add\n",
      "  (x_ast[i - 1] - x_hat[i - 1]))\n",
      "/Users/carina/anaconda/envs/iraf27/lib/python2.7/site-packages/FATS/FeatureFunctionLib.py:931: RuntimeWarning: invalid value encountered in divide\n",
      "  (a_new * Omega[i - 1] / (Omega[i - 1] + error_vars[i - 1])) *\n",
      "/Users/carina/anaconda/envs/iraf27/lib/python2.7/site-packages/FATS/FeatureFunctionLib.py:936: RuntimeWarning: invalid value encountered in divide\n",
      "  (1 - (Omega[i - 1] / (Omega[i - 1] + error_vars[i - 1]))))\n",
      "/Users/carina/anaconda/envs/iraf27/lib/python2.7/site-packages/FATS/FeatureFunctionLib.py:945: RuntimeWarning: invalid value encountered in power\n",
      "  ((2 * np.pi * (Omega[i] + error_vars[i])) ** -0.5) *\n",
      "/Users/carina/anaconda/envs/iraf27/lib/python2.7/site-packages/FATS/FeatureFunctionLib.py:935: RuntimeWarning: overflow encountered in square\n",
      "  Omega[0] * (1 - (a_new ** 2)) + ((a_new ** 2)) * Omega[i - 1] *\n",
      "/Users/carina/anaconda/envs/iraf27/lib/python2.7/site-packages/FATS/FeatureFunctionLib.py:946: RuntimeWarning: overflow encountered in square\n",
      "  (np.exp(-0.5 * (((x_hat[i] - x_ast[i]) ** 2) /\n",
      "/Users/carina/anaconda/envs/iraf27/lib/python2.7/site-packages/FATS/FeatureFunctionLib.py:947: RuntimeWarning: invalid value encountered in divide\n",
      "  (Omega[i] + error_vars[i]))) + epsilon))\n",
      "/Users/carina/anaconda/envs/iraf27/lib/python2.7/site-packages/FATS/FeatureFunctionLib.py:927: RuntimeWarning: overflow encountered in exp\n",
      "  a_new = np.exp(-(t[i] - t[i - 1]) / tau)\n",
      "/Users/carina/anaconda/envs/iraf27/lib/python2.7/site-packages/FATS/FeatureFunctionLib.py:932: RuntimeWarning: invalid value encountered in add\n",
      "  (x_ast[i - 1] - x_hat[i - 1]))\n",
      "/Users/carina/anaconda/envs/iraf27/lib/python2.7/site-packages/FATS/FeatureFunctionLib.py:931: RuntimeWarning: invalid value encountered in divide\n",
      "  (a_new * Omega[i - 1] / (Omega[i - 1] + error_vars[i - 1])) *\n",
      "/Users/carina/anaconda/envs/iraf27/lib/python2.7/site-packages/FATS/FeatureFunctionLib.py:936: RuntimeWarning: invalid value encountered in divide\n",
      "  (1 - (Omega[i - 1] / (Omega[i - 1] + error_vars[i - 1]))))\n",
      "/Users/carina/anaconda/envs/iraf27/lib/python2.7/site-packages/FATS/FeatureFunctionLib.py:935: RuntimeWarning: overflow encountered in square\n",
      "  Omega[0] * (1 - (a_new ** 2)) + ((a_new ** 2)) * Omega[i - 1] *\n",
      "/Users/carina/anaconda/envs/iraf27/lib/python2.7/site-packages/FATS/FeatureFunctionLib.py:946: RuntimeWarning: overflow encountered in square\n",
      "  (np.exp(-0.5 * (((x_hat[i] - x_ast[i]) ** 2) /\n",
      "/Users/carina/anaconda/envs/iraf27/lib/python2.7/site-packages/FATS/FeatureFunctionLib.py:947: RuntimeWarning: invalid value encountered in divide\n",
      "  (Omega[i] + error_vars[i]))) + epsilon))\n"
     ]
    },
    {
     "name": "stdout",
     "output_type": "stream",
     "text": [
      "function took longer than 15 seconds\n",
      "function took longer than 15 seconds\n",
      "function took longer than 15 seconds\n",
      "function took longer than 15 seconds\n"
     ]
    },
    {
     "name": "stderr",
     "output_type": "stream",
     "text": [
      "/Users/carina/anaconda/envs/iraf27/lib/python2.7/site-packages/scipy/optimize/_minimize.py:430: RuntimeWarning: Method powell cannot handle constraints nor bounds.\n",
      "  RuntimeWarning)\n",
      "/Users/carina/anaconda/envs/iraf27/lib/python2.7/site-packages/FATS/FeatureFunctionLib.py:927: RuntimeWarning: overflow encountered in exp\n",
      "  a_new = np.exp(-(t[i] - t[i - 1]) / tau)\n",
      "/Users/carina/anaconda/envs/iraf27/lib/python2.7/site-packages/FATS/FeatureFunctionLib.py:932: RuntimeWarning: invalid value encountered in add\n",
      "  (x_ast[i - 1] - x_hat[i - 1]))\n",
      "/Users/carina/anaconda/envs/iraf27/lib/python2.7/site-packages/FATS/FeatureFunctionLib.py:931: RuntimeWarning: invalid value encountered in divide\n",
      "  (a_new * Omega[i - 1] / (Omega[i - 1] + error_vars[i - 1])) *\n",
      "/Users/carina/anaconda/envs/iraf27/lib/python2.7/site-packages/FATS/FeatureFunctionLib.py:936: RuntimeWarning: invalid value encountered in divide\n",
      "  (1 - (Omega[i - 1] / (Omega[i - 1] + error_vars[i - 1]))))\n",
      "/Users/carina/anaconda/envs/iraf27/lib/python2.7/site-packages/FATS/FeatureFunctionLib.py:945: RuntimeWarning: invalid value encountered in power\n",
      "  ((2 * np.pi * (Omega[i] + error_vars[i])) ** -0.5) *\n",
      "/Users/carina/anaconda/envs/iraf27/lib/python2.7/site-packages/FATS/FeatureFunctionLib.py:935: RuntimeWarning: overflow encountered in square\n",
      "  Omega[0] * (1 - (a_new ** 2)) + ((a_new ** 2)) * Omega[i - 1] *\n",
      "/Users/carina/anaconda/envs/iraf27/lib/python2.7/site-packages/scipy/optimize/_minimize.py:430: RuntimeWarning: Method powell cannot handle constraints nor bounds.\n",
      "  RuntimeWarning)\n",
      "/Users/carina/anaconda/envs/iraf27/lib/python2.7/site-packages/FATS/FeatureFunctionLib.py:946: RuntimeWarning: overflow encountered in square\n",
      "  (np.exp(-0.5 * (((x_hat[i] - x_ast[i]) ** 2) /\n",
      "/Users/carina/anaconda/envs/iraf27/lib/python2.7/site-packages/FATS/FeatureFunctionLib.py:947: RuntimeWarning: invalid value encountered in divide\n",
      "  (Omega[i] + error_vars[i]))) + epsilon))\n",
      "/Users/carina/anaconda/envs/iraf27/lib/python2.7/site-packages/scipy/optimize/_minimize.py:430: RuntimeWarning: Method powell cannot handle constraints nor bounds.\n",
      "  RuntimeWarning)\n",
      "/Users/carina/anaconda/envs/iraf27/lib/python2.7/site-packages/scipy/optimize/_minimize.py:430: RuntimeWarning: Method powell cannot handle constraints nor bounds.\n",
      "  RuntimeWarning)\n",
      "WARNING: The fit may be unsuccessful; check fit_info['message'] for more information. [astropy.modeling.fitting]\n",
      "WARNING: The fit may be unsuccessful; check fit_info['message'] for more information. [astropy.modeling.fitting]\n",
      "WARNING: The fit may be unsuccessful; check fit_info['message'] for more information. [astropy.modeling.fitting]\n"
     ]
    },
    {
     "name": "stdout",
     "output_type": "stream",
     "text": [
      "function took longer than 15 seconds\n"
     ]
    },
    {
     "name": "stderr",
     "output_type": "stream",
     "text": [
      "WARNING: The fit may be unsuccessful; check fit_info['message'] for more information. [astropy.modeling.fitting]\n",
      "WARNING: The fit may be unsuccessful; check fit_info['message'] for more information. [astropy.modeling.fitting]\n"
     ]
    },
    {
     "name": "stdout",
     "output_type": "stream",
     "text": [
      "[          Psi_eta Q31_color PercentAmplitude       MaxSlope   SmallKurtosis  \\\n",
      "0  0.303689464901     0.057  0.0144273322712  722.532001209  -1.00691561479   \n",
      "\n",
      "    KD_major_std_0     KD_theta_0  KD_fit_sqresid       StetsonJ  \\\n",
      "0  0.0747464429946  2.10415505411  0.113254330267  2.30013832274   \n",
      "\n",
      "       Eta_color     ...     Freq1_harmonics_rel_phase_3   PairSlopeTrend  \\\n",
      "0  1411787560.07     ...                  0.947930965322  -0.233333333333   \n",
      "\n",
      "         CAR_sigma Autocor_length StructureFunction_index_31 MedianAbsDev  \\\n",
      "0  0.0180213104795           32.0              2.28157539544        0.044   \n",
      "\n",
      "    Gskew FluxPercentileRatioMid80      PeriodLS StetsonK_AC  \n",
      "0  -0.053           0.857923497268  16487.264348         1.0  \n",
      "\n",
      "[1 rows x 85 columns],            Psi_eta Q31_color PercentAmplitude      MaxSlope   SmallKurtosis  \\\n",
      "0  0.0712302889282      0.16  0.0586058519793  746.21004559  -1.60575366508   \n",
      "\n",
      "   KD_major_std_0     KD_theta_0 KD_fit_sqresid       StetsonJ      Eta_color  \\\n",
      "0  0.110999956151  1.57079632679  4.58821915841  13.1827952998  454675639.994   \n",
      "\n",
      "      ...     Freq1_harmonics_rel_phase_3    PairSlopeTrend         CAR_sigma  \\\n",
      "0     ...                 -0.925022560202  -0.0333333333333  0.00715190143101   \n",
      "\n",
      "  Autocor_length StructureFunction_index_31 MedianAbsDev    Gskew  \\\n",
      "0           24.0              2.54823007466        0.059  -0.5815   \n",
      "\n",
      "  FluxPercentileRatioMid80       PeriodLS StetsonK_AC  \n",
      "0           0.962290502793  4120.51697228         1.0  \n",
      "\n",
      "[1 rows x 85 columns],           Psi_eta Q31_color PercentAmplitude       MaxSlope    SmallKurtosis  \\\n",
      "0  0.451019707302   0.04075  0.0139755556702  343.750020408  -0.535327685783   \n",
      "\n",
      "    KD_major_std_0     KD_theta_0  KD_fit_sqresid       StetsonJ  \\\n",
      "0  0.0591740567304  1.57079632679  0.529320287238  1.92730760612   \n",
      "\n",
      "       Eta_color     ...     Freq1_harmonics_rel_phase_3 PairSlopeTrend  \\\n",
      "0  937799944.076     ...                  0.164968105931            0.1   \n",
      "\n",
      "          CAR_sigma Autocor_length StructureFunction_index_31 MedianAbsDev  \\\n",
      "0  0.00376353345657           20.0              1.78623365002        0.033   \n",
      "\n",
      "     Gskew FluxPercentileRatioMid80       PeriodLS StetsonK_AC  \n",
      "0  -0.0185           0.845238095238  23.8950875905         1.0  \n",
      "\n",
      "[1 rows x 85 columns],           Psi_eta Q31_color PercentAmplitude       MaxSlope  SmallKurtosis  \\\n",
      "0  0.224993024647    0.0695  0.0635360458898  724.409452593  1.36578467267   \n",
      "\n",
      "   KD_major_std_0     KD_theta_0    KD_fit_sqresid       StetsonJ  \\\n",
      "0  0.153518257713  1.57079632679  0.00763948535959  6.59993570602   \n",
      "\n",
      "       Eta_color       ...       Freq1_harmonics_rel_phase_3 PairSlopeTrend  \\\n",
      "0  457087800.463       ...                   -0.999075206143            0.1   \n",
      "\n",
      "          CAR_sigma Autocor_length StructureFunction_index_31 MedianAbsDev  \\\n",
      "0  -0.0367832202036           11.0              2.41642369647        0.104   \n",
      "\n",
      "  Gskew FluxPercentileRatioMid80       PeriodLS     StetsonK_AC  \n",
      "0  0.46           0.708039492243  36.2304916418  0.925447955474  \n",
      "\n",
      "[1 rows x 85 columns],           Psi_eta Q31_color  PercentAmplitude       MaxSlope  \\\n",
      "0  0.892585492154   0.03625  0.00931629588148  447.690846323   \n",
      "\n",
      "      SmallKurtosis   KD_major_std_0      KD_theta_0  KD_fit_sqresid  \\\n",
      "0  -0.0596815880541  0.0405387374686  0.892849025387  0.572444014708   \n",
      "\n",
      "        StetsonJ      Eta_color     ...     Freq1_harmonics_rel_phase_3  \\\n",
      "0  0.67504163156  3188369888.36     ...                  0.754184418812   \n",
      "\n",
      "    PairSlopeTrend          CAR_sigma Autocor_length  \\\n",
      "0  -0.166666666667  0.000882556902228           20.0   \n",
      "\n",
      "  StructureFunction_index_31 MedianAbsDev   Gskew FluxPercentileRatioMid80  \\\n",
      "0              2.46415843494       0.0205  -0.036           0.813725490196   \n",
      "\n",
      "        PeriodLS StetsonK_AC  \n",
      "0  189.342754686         1.0  \n",
      "\n",
      "[1 rows x 85 columns]]\n",
      "CPU times: user 272 ms, sys: 198 ms, total: 470 ms\n",
      "Wall time: 33 s\n"
     ]
    }
   ],
   "source": [
    "%%time\n",
    "results = []\n",
    "\n",
    "with ProcessPool(max_workers=4) as pool:\n",
    "    future = pool.map(get_features, unique_names[:10], timeout=15)\n",
    "\n",
    "    iterator = future.result()\n",
    "\n",
    "    # iterate over all results, if a computation timed out\n",
    "    # print it and continue to the next result\n",
    "    while True:\n",
    "        try:\n",
    "            result = next(iterator)\n",
    "            results.append(result)\n",
    "        except StopIteration:\n",
    "            break  \n",
    "        except TimeoutError as error:\n",
    "            print(\"function took longer than {0} seconds\".format(error.args[1]))\n",
    "\n",
    "print(results)\n",
    "out = pd.concat(results)\n",
    "\n",
    "\"\"\"p = Pool(8)\n",
    "dfs = p.map(get_features,np.tile(unique_names,8))\n",
    "out = pd.concat(dfs)\n",
    "out.to_csv('test_features.csv')\"\"\""
   ]
  },
  {
   "cell_type": "code",
   "execution_count": 14,
   "metadata": {},
   "outputs": [
    {
     "data": {
      "text/plain": [
       "0    J000305.74+632002.1\n",
       "0    J000422.92+574931.2\n",
       "0    J000557.59+633701.3\n",
       "0    J000633.81+632634.2\n",
       "0    J000636.56+434228.2\n",
       "Name: Name, dtype: object"
      ]
     },
     "execution_count": 14,
     "metadata": {},
     "output_type": "execute_result"
    }
   ],
   "source": [
    "out['Name']"
   ]
  },
  {
   "cell_type": "code",
   "execution_count": 280,
   "metadata": {},
   "outputs": [
    {
     "name": "stdout",
     "output_type": "stream",
     "text": [
      "best bandwidth: 0.117666666667\n"
     ]
    }
   ],
   "source": [
    "\n",
    "x = df['w1mpro'] - df['w2mpro']\n",
    "y = df['w1mpro']\n",
    "data = np.vstack([x, y]).T\n",
    "\n",
    "params = {'bandwidth': np.linspace(np.min(np.diff(y)),np.max(np.diff(y)),100)}\n",
    "grid = GridSearchCV(KernelDensity(), params)\n",
    "grid.fit(data)\n",
    "\n",
    "print(\"best bandwidth: {0}\".format(grid.best_estimator_.bandwidth))\n",
    "\n",
    "# use the best estimator to compute the kernel density estimate\n",
    "kde = grid.best_estimator_"
   ]
  },
  {
   "cell_type": "code",
   "execution_count": 7,
   "metadata": {},
   "outputs": [],
   "source": [
    "lens = []\n",
    "for name in unique_names:\n",
    "    df = get_lightcurve(name,'../data/bright_blue_lightcurves/data/')\n",
    "    lens.append(len(df))\n",
    "lens = np.array(lens)"
   ]
  },
  {
   "cell_type": "code",
   "execution_count": 46,
   "metadata": {},
   "outputs": [],
   "source": [
    "longest = unique_names[lens == max(lens)]"
   ]
  },
  {
   "cell_type": "code",
   "execution_count": 49,
   "metadata": {},
   "outputs": [],
   "source": [
    "df = get_lightcurve(longest[0],'../data/bright_blue_lightcurves/data/')"
   ]
  },
  {
   "cell_type": "code",
   "execution_count": 59,
   "metadata": {},
   "outputs": [
    {
     "data": {
      "image/png": "[encoded data removed]",
      "text/plain": [
       "<matplotlib.figure.Figure at 0x11b705390>"
      ]
     },
     "metadata": {},
     "output_type": "display_data"
    }
   ],
   "source": [
    "plt.figure(figsize=(12,5))\n",
    "plt.scatter(range(len(df)),df['w1mpro'],marker='.',c='k')\n",
    "plt.gca().invert_yaxis()"
   ]
  },
  {
   "cell_type": "code",
   "execution_count": 55,
   "metadata": {},
   "outputs": [
    {
     "data": {
      "text/plain": [
       "(array([  1.,   0.,   0.,   0.,   0.,   0.,   0.,   0.,   0.,   0.,   0.,\n",
       "          0.,   0.,   0.,   0.,   0.,   0.,   0.,   0.,   0.,   0.,   0.,\n",
       "          0.,   0.,   0.,   0.,   0.,   0.,   0.,   0.,   0.,   0.,   0.,\n",
       "          0.,   0.,   0.,   0.,   0.,   0.,   0.,   0.,   0.,   0.,   0.,\n",
       "          0.,   0.,   0.,   0.,   0.,   0.,   0.,   0.,   0.,   0.,   0.,\n",
       "          0.,   0.,   0.,   0.,   0.,   0.,   0.,   0.,   0.,   0.,   0.,\n",
       "          0.,   0.,   0.,   0.,   0.,   0.,   0.,   0.,   0.,   0.,   0.,\n",
       "          0.,   0.,   0.,   0.,   0.,   0.,   0.,   0.,   0.,   0.,   0.,\n",
       "          0.,   0.,   0.,   0.,   0.,   0.,   0.,   0.,   0.,   0.,   0.,\n",
       "          0.,   0.,   0.,   0.,   0.,   0.,   0.,   0.,   0.,   0.,   0.,\n",
       "          0.,   0.,   0.,   0.,   0.,   0.,   0.,   0.,   0.,   0.,   0.,\n",
       "          0.,   0.,   0.,   0.,   0.,   0.,   0.,   0.,   0.,   0.,   0.,\n",
       "          0.,   0.,   0.,   0.,   0.,   0.,   0.,   0.,   0.,   0.,   0.,\n",
       "          0.,   0.,   0.,   0.,   0.,   0.,   0.,   0.,   0.,   0.,   0.,\n",
       "          0.,   0.,   0.,   0.,   0.,   0.,   0.,   0.,   0.,   0.,   0.,\n",
       "          0.,   0.,   0.,   0.,   0.,   0.,   0.,   0.,   0.,   0.,   0.,\n",
       "          0.,   0.,   0.,   0.,   0.,   0.,   0.,   0.,   0.,   0.,   0.,\n",
       "          0.,   0.,   0.,   0.,   0.,   0.,   0.,   0.,   0.,   0.,   0.,\n",
       "          0.,   0.,   0.,   0.,   0.,   1.,   0.,   0.,   0.,   0.,   0.,\n",
       "          0.,   0.,   0.,   0.,   0.,   0.,   0.,   0.,   0.,   0.,   0.,\n",
       "          0.,   0.,   0.,   0.,   0.,   0.,   0.,   0.,   0.,   0.,   0.,\n",
       "          0.,   0.,   0.,   0.,   0.,   0.,   0.,   0.,   0.,   0.,   0.,\n",
       "          0.,   0.,   0.,   1.,   0.,   0.,   0.,   0.,   0.,   0.,   0.,\n",
       "          0.,   1.,   2.,   0.,   0.,   0.,   0.,   0.,   1.,   0.,   0.,\n",
       "          2.,   1.,   1.,   0.,   2.,   2.,   5.,   2.,   2.,   2.,   2.,\n",
       "          4.,  12.,   5.,   7.,   5.,   7.,  10.,  10.,  13.,  14.,  12.,\n",
       "         12.,   7.,  19.,  29.,  24.,  27.,  15.,  27.,  33.,  23.,  44.,\n",
       "         40.,  48.,  24.,  37.,  45.,  50.,  44.,  60.,  50.,  47.,  37.,\n",
       "         48.,  66.,  56.,  57.,  30.,  56.,  70.,  59.,  62.,  57.,  50.,\n",
       "         61.,  65.,  50.,  52.,  51.,  32.,  58.,  50.,  43.,  52.,  44.,\n",
       "         41.,  50.,  40.,  27.,  22.,  31.,  28.,   6.,  33.,  29.,  21.,\n",
       "         30.,  25.,  14.,  22.,  12.,  20.,   6.,  14.,   5.,  12.,   8.,\n",
       "         10.,  12.,  10.,   5.,   5.,   8.,   9.,   7.,   1.,   4.,   3.,\n",
       "          2.,   2.,   1.,   3.,   3.,   3.,   1.,   1.,   1.,   0.,   1.,\n",
       "          1.,   2.,   1.,   0.,   0.,   1.,   0.,   1.,   1.,   1.,   0.,\n",
       "          1.,   2.,   0.,   0.,   0.,   2.,   0.,   0.,   0.,   3.,   0.,\n",
       "          0.,   0.,   0.,   0.,   0.,   0.,   1.,   0.,   1.,   0.,   1.,\n",
       "          1.,   0.,   0.,   0.,   0.,   0.,   0.,   1.,   0.,   1.,   0.,\n",
       "          0.,   0.,   1.,   0.,   0.,   0.,   0.,   0.,   0.,   0.,   0.,\n",
       "          1.,   0.,   0.,   0.,   0.,   0.,   0.,   0.,   0.,   0.,   0.,\n",
       "          0.,   0.,   0.,   0.,   0.,   0.,   0.,   0.,   0.,   0.,   0.,\n",
       "          0.,   1.,   0.,   1.,   0.,   0.,   0.,   0.,   0.,   0.,   0.,\n",
       "          0.,   0.,   0.,   0.,   0.,   0.,   1.,   0.,   0.,   0.,   0.,\n",
       "          0.,   0.,   0.,   0.,   0.,   0.,   0.,   0.,   0.,   0.,   0.,\n",
       "          0.,   0.,   0.,   0.,   0.,   0.,   0.,   0.,   0.,   0.,   0.,\n",
       "          0.,   0.,   0.,   0.,   1.]),\n",
       " array([ 12.048  ,  12.04992,  12.05184,  12.05376,  12.05568,  12.0576 ,\n",
       "         12.05952,  12.06144,  12.06336,  12.06528,  12.0672 ,  12.06912,\n",
       "         12.07104,  12.07296,  12.07488,  12.0768 ,  12.07872,  12.08064,\n",
       "         12.08256,  12.08448,  12.0864 ,  12.08832,  12.09024,  12.09216,\n",
       "         12.09408,  12.096  ,  12.09792,  12.09984,  12.10176,  12.10368,\n",
       "         12.1056 ,  12.10752,  12.10944,  12.11136,  12.11328,  12.1152 ,\n",
       "         12.11712,  12.11904,  12.12096,  12.12288,  12.1248 ,  12.12672,\n",
       "         12.12864,  12.13056,  12.13248,  12.1344 ,  12.13632,  12.13824,\n",
       "         12.14016,  12.14208,  12.144  ,  12.14592,  12.14784,  12.14976,\n",
       "         12.15168,  12.1536 ,  12.15552,  12.15744,  12.15936,  12.16128,\n",
       "         12.1632 ,  12.16512,  12.16704,  12.16896,  12.17088,  12.1728 ,\n",
       "         12.17472,  12.17664,  12.17856,  12.18048,  12.1824 ,  12.18432,\n",
       "         12.18624,  12.18816,  12.19008,  12.192  ,  12.19392,  12.19584,\n",
       "         12.19776,  12.19968,  12.2016 ,  12.20352,  12.20544,  12.20736,\n",
       "         12.20928,  12.2112 ,  12.21312,  12.21504,  12.21696,  12.21888,\n",
       "         12.2208 ,  12.22272,  12.22464,  12.22656,  12.22848,  12.2304 ,\n",
       "         12.23232,  12.23424,  12.23616,  12.23808,  12.24   ,  12.24192,\n",
       "         12.24384,  12.24576,  12.24768,  12.2496 ,  12.25152,  12.25344,\n",
       "         12.25536,  12.25728,  12.2592 ,  12.26112,  12.26304,  12.26496,\n",
       "         12.26688,  12.2688 ,  12.27072,  12.27264,  12.27456,  12.27648,\n",
       "         12.2784 ,  12.28032,  12.28224,  12.28416,  12.28608,  12.288  ,\n",
       "         12.28992,  12.29184,  12.29376,  12.29568,  12.2976 ,  12.29952,\n",
       "         12.30144,  12.30336,  12.30528,  12.3072 ,  12.30912,  12.31104,\n",
       "         12.31296,  12.31488,  12.3168 ,  12.31872,  12.32064,  12.32256,\n",
       "         12.32448,  12.3264 ,  12.32832,  12.33024,  12.33216,  12.33408,\n",
       "         12.336  ,  12.33792,  12.33984,  12.34176,  12.34368,  12.3456 ,\n",
       "         12.34752,  12.34944,  12.35136,  12.35328,  12.3552 ,  12.35712,\n",
       "         12.35904,  12.36096,  12.36288,  12.3648 ,  12.36672,  12.36864,\n",
       "         12.37056,  12.37248,  12.3744 ,  12.37632,  12.37824,  12.38016,\n",
       "         12.38208,  12.384  ,  12.38592,  12.38784,  12.38976,  12.39168,\n",
       "         12.3936 ,  12.39552,  12.39744,  12.39936,  12.40128,  12.4032 ,\n",
       "         12.40512,  12.40704,  12.40896,  12.41088,  12.4128 ,  12.41472,\n",
       "         12.41664,  12.41856,  12.42048,  12.4224 ,  12.42432,  12.42624,\n",
       "         12.42816,  12.43008,  12.432  ,  12.43392,  12.43584,  12.43776,\n",
       "         12.43968,  12.4416 ,  12.44352,  12.44544,  12.44736,  12.44928,\n",
       "         12.4512 ,  12.45312,  12.45504,  12.45696,  12.45888,  12.4608 ,\n",
       "         12.46272,  12.46464,  12.46656,  12.46848,  12.4704 ,  12.47232,\n",
       "         12.47424,  12.47616,  12.47808,  12.48   ,  12.48192,  12.48384,\n",
       "         12.48576,  12.48768,  12.4896 ,  12.49152,  12.49344,  12.49536,\n",
       "         12.49728,  12.4992 ,  12.50112,  12.50304,  12.50496,  12.50688,\n",
       "         12.5088 ,  12.51072,  12.51264,  12.51456,  12.51648,  12.5184 ,\n",
       "         12.52032,  12.52224,  12.52416,  12.52608,  12.528  ,  12.52992,\n",
       "         12.53184,  12.53376,  12.53568,  12.5376 ,  12.53952,  12.54144,\n",
       "         12.54336,  12.54528,  12.5472 ,  12.54912,  12.55104,  12.55296,\n",
       "         12.55488,  12.5568 ,  12.55872,  12.56064,  12.56256,  12.56448,\n",
       "         12.5664 ,  12.56832,  12.57024,  12.57216,  12.57408,  12.576  ,\n",
       "         12.57792,  12.57984,  12.58176,  12.58368,  12.5856 ,  12.58752,\n",
       "         12.58944,  12.59136,  12.59328,  12.5952 ,  12.59712,  12.59904,\n",
       "         12.60096,  12.60288,  12.6048 ,  12.60672,  12.60864,  12.61056,\n",
       "         12.61248,  12.6144 ,  12.61632,  12.61824,  12.62016,  12.62208,\n",
       "         12.624  ,  12.62592,  12.62784,  12.62976,  12.63168,  12.6336 ,\n",
       "         12.63552,  12.63744,  12.63936,  12.64128,  12.6432 ,  12.64512,\n",
       "         12.64704,  12.64896,  12.65088,  12.6528 ,  12.65472,  12.65664,\n",
       "         12.65856,  12.66048,  12.6624 ,  12.66432,  12.66624,  12.66816,\n",
       "         12.67008,  12.672  ,  12.67392,  12.67584,  12.67776,  12.67968,\n",
       "         12.6816 ,  12.68352,  12.68544,  12.68736,  12.68928,  12.6912 ,\n",
       "         12.69312,  12.69504,  12.69696,  12.69888,  12.7008 ,  12.70272,\n",
       "         12.70464,  12.70656,  12.70848,  12.7104 ,  12.71232,  12.71424,\n",
       "         12.71616,  12.71808,  12.72   ,  12.72192,  12.72384,  12.72576,\n",
       "         12.72768,  12.7296 ,  12.73152,  12.73344,  12.73536,  12.73728,\n",
       "         12.7392 ,  12.74112,  12.74304,  12.74496,  12.74688,  12.7488 ,\n",
       "         12.75072,  12.75264,  12.75456,  12.75648,  12.7584 ,  12.76032,\n",
       "         12.76224,  12.76416,  12.76608,  12.768  ,  12.76992,  12.77184,\n",
       "         12.77376,  12.77568,  12.7776 ,  12.77952,  12.78144,  12.78336,\n",
       "         12.78528,  12.7872 ,  12.78912,  12.79104,  12.79296,  12.79488,\n",
       "         12.7968 ,  12.79872,  12.80064,  12.80256,  12.80448,  12.8064 ,\n",
       "         12.80832,  12.81024,  12.81216,  12.81408,  12.816  ,  12.81792,\n",
       "         12.81984,  12.82176,  12.82368,  12.8256 ,  12.82752,  12.82944,\n",
       "         12.83136,  12.83328,  12.8352 ,  12.83712,  12.83904,  12.84096,\n",
       "         12.84288,  12.8448 ,  12.84672,  12.84864,  12.85056,  12.85248,\n",
       "         12.8544 ,  12.85632,  12.85824,  12.86016,  12.86208,  12.864  ,\n",
       "         12.86592,  12.86784,  12.86976,  12.87168,  12.8736 ,  12.87552,\n",
       "         12.87744,  12.87936,  12.88128,  12.8832 ,  12.88512,  12.88704,\n",
       "         12.88896,  12.89088,  12.8928 ,  12.89472,  12.89664,  12.89856,\n",
       "         12.90048,  12.9024 ,  12.90432,  12.90624,  12.90816,  12.91008,\n",
       "         12.912  ,  12.91392,  12.91584,  12.91776,  12.91968,  12.9216 ,\n",
       "         12.92352,  12.92544,  12.92736,  12.92928,  12.9312 ,  12.93312,\n",
       "         12.93504,  12.93696,  12.93888,  12.9408 ,  12.94272,  12.94464,\n",
       "         12.94656,  12.94848,  12.9504 ,  12.95232,  12.95424,  12.95616,\n",
       "         12.95808,  12.96   ,  12.96192,  12.96384,  12.96576,  12.96768,\n",
       "         12.9696 ,  12.97152,  12.97344,  12.97536,  12.97728,  12.9792 ,\n",
       "         12.98112,  12.98304,  12.98496,  12.98688,  12.9888 ,  12.99072,\n",
       "         12.99264,  12.99456,  12.99648,  12.9984 ,  13.00032,  13.00224,\n",
       "         13.00416,  13.00608,  13.008  ]),\n",
       " <a list of 500 Patch objects>)"
      ]
     },
     "execution_count": 55,
     "metadata": {},
     "output_type": "execute_result"
    },
    {
     "data": {
      "image/png": "[encoded data removed]",
      "text/plain": [
       "<matplotlib.figure.Figure at 0x11bee4950>"
      ]
     },
     "metadata": {},
     "output_type": "display_data"
    }
   ],
   "source": [
    "plt.hist(df['w1mpro'],bins=500)"
   ]
  },
  {
   "cell_type": "code",
   "execution_count": 56,
   "metadata": {},
   "outputs": [
    {
     "name": "stdout",
     "output_type": "stream",
     "text": [
      "CPU times: user 5min 2s, sys: 7.76 s, total: 5min 10s\n",
      "Wall time: 5min 14s\n"
     ]
    }
   ],
   "source": [
    "%%time\n",
    "\n",
    "long_feat = get_features(longest[0])"
   ]
  },
  {
   "cell_type": "code",
   "execution_count": 8,
   "metadata": {},
   "outputs": [
    {
     "data": {
      "text/plain": [
       "(0, 500)"
      ]
     },
     "execution_count": 8,
     "metadata": {},
     "output_type": "execute_result"
    },
    {
     "data": {
      "image/png": "[encoded data removed]",
      "text/plain": [
       "<matplotlib.figure.Figure at 0x11b47eb90>"
      ]
     },
     "metadata": {},
     "output_type": "display_data"
    }
   ],
   "source": [
    "plt.hist(lens,bins=500);\n",
    "plt.xlim(0,500)"
   ]
  },
  {
   "cell_type": "code",
   "execution_count": 27,
   "metadata": {},
   "outputs": [],
   "source": [
    "test_lens = (lens >= 21)&(lens <= 22)\n",
    "test_names = unique_names[test_lens]\n",
    "name_lens = lens[test_lens]"
   ]
  },
  {
   "cell_type": "code",
   "execution_count": 28,
   "metadata": {},
   "outputs": [
    {
     "data": {
      "text/plain": [
       "16"
      ]
     },
     "execution_count": 28,
     "metadata": {},
     "output_type": "execute_result"
    }
   ],
   "source": [
    "len(test_names)"
   ]
  },
  {
   "cell_type": "code",
   "execution_count": 29,
   "metadata": {},
   "outputs": [
    {
     "name": "stdout",
     "output_type": "stream",
     "text": [
      "J063946.60-111551.0 21\n"
     ]
    },
    {
     "name": "stderr",
     "output_type": "stream",
     "text": [
      "WARNING: The fit may be unsuccessful; check fit_info['message'] for more information. [astropy.modeling.fitting]\n"
     ]
    },
    {
     "name": "stdout",
     "output_type": "stream",
     "text": [
      "J105128.60-611650.6 21\n"
     ]
    },
    {
     "name": "stderr",
     "output_type": "stream",
     "text": [
      "WARNING: The fit may be unsuccessful; check fit_info['message'] for more information. [astropy.modeling.fitting]\n"
     ]
    },
    {
     "name": "stdout",
     "output_type": "stream",
     "text": [
      "J105740.07-613933.1 21\n"
     ]
    },
    {
     "name": "stderr",
     "output_type": "stream",
     "text": [
      "WARNING: The fit may be unsuccessful; check fit_info['message'] for more information. [astropy.modeling.fitting]\n"
     ]
    },
    {
     "name": "stdout",
     "output_type": "stream",
     "text": [
      "J121328.03-610214.1 22\n",
      "CAR lik se fue a inf\n"
     ]
    },
    {
     "ename": "TypeError",
     "evalue": "unsupported operand type(s) for -: 'NoneType' and 'float'",
     "output_type": "error",
     "traceback": [
      "\u001b[0;31m---------------------------------------------------------------------------\u001b[0m",
      "\u001b[0;31mTypeError\u001b[0m                                 Traceback (most recent call last)",
      "\u001b[0;32m<ipython-input-29-6b68c35bfdfd>\u001b[0m in \u001b[0;36m<module>\u001b[0;34m()\u001b[0m\n\u001b[1;32m      1\u001b[0m \u001b[0;32mfor\u001b[0m \u001b[0mname\u001b[0m\u001b[0;34m,\u001b[0m \u001b[0ms\u001b[0m \u001b[0;32min\u001b[0m \u001b[0mzip\u001b[0m\u001b[0;34m(\u001b[0m\u001b[0mtest_names\u001b[0m\u001b[0;34m,\u001b[0m\u001b[0mname_lens\u001b[0m\u001b[0;34m)\u001b[0m\u001b[0;34m:\u001b[0m\u001b[0;34m\u001b[0m\u001b[0m\n\u001b[1;32m      2\u001b[0m     \u001b[0;32mprint\u001b[0m\u001b[0;34m(\u001b[0m\u001b[0mname\u001b[0m\u001b[0;34m,\u001b[0m\u001b[0ms\u001b[0m\u001b[0;34m)\u001b[0m\u001b[0;34m\u001b[0m\u001b[0m\n\u001b[0;32m----> 3\u001b[0;31m     \u001b[0mget_features\u001b[0m\u001b[0;34m(\u001b[0m\u001b[0mname\u001b[0m\u001b[0;34m)\u001b[0m\u001b[0;34m\u001b[0m\u001b[0m\n\u001b[0m",
      "\u001b[0;32m<ipython-input-6-8f2ea8fc0340>\u001b[0m in \u001b[0;36mget_features\u001b[0;34m(name)\u001b[0m\n\u001b[1;32m     22\u001b[0m     a = FATS.FeatureSpace(Data=['magnitude', 'time', 'error', 'magnitude2', 'error2'],\n\u001b[1;32m     23\u001b[0m                            excludeList=[])\n\u001b[0;32m---> 24\u001b[0;31m     \u001b[0ma\u001b[0m\u001b[0;34m.\u001b[0m\u001b[0mcalculateFeature\u001b[0m\u001b[0;34m(\u001b[0m\u001b[0mlc\u001b[0m\u001b[0;34m)\u001b[0m\u001b[0;34m\u001b[0m\u001b[0m\n\u001b[0m\u001b[1;32m     25\u001b[0m     \u001b[0mresult\u001b[0m \u001b[0;34m=\u001b[0m \u001b[0ma\u001b[0m\u001b[0;34m.\u001b[0m\u001b[0mresult\u001b[0m\u001b[0;34m(\u001b[0m\u001b[0;34m'dict'\u001b[0m\u001b[0;34m)\u001b[0m\u001b[0;34m\u001b[0m\u001b[0m\n\u001b[1;32m     26\u001b[0m \u001b[0;34m\u001b[0m\u001b[0m\n",
      "\u001b[0;32m/Users/carina/anaconda/envs/iraf27/lib/python2.7/site-packages/FATS/Feature.pyc\u001b[0m in \u001b[0;36mcalculateFeature\u001b[0;34m(self, data)\u001b[0m\n\u001b[1;32m    133\u001b[0m         \u001b[0mself\u001b[0m\u001b[0;34m.\u001b[0m\u001b[0m__result\u001b[0m \u001b[0;34m=\u001b[0m \u001b[0;34m[\u001b[0m\u001b[0;34m]\u001b[0m\u001b[0;34m\u001b[0m\u001b[0m\n\u001b[1;32m    134\u001b[0m         \u001b[0;32mfor\u001b[0m \u001b[0mf\u001b[0m \u001b[0;32min\u001b[0m \u001b[0mself\u001b[0m\u001b[0;34m.\u001b[0m\u001b[0mfeatureFunc\u001b[0m\u001b[0;34m:\u001b[0m\u001b[0;34m\u001b[0m\u001b[0m\n\u001b[0;32m--> 135\u001b[0;31m             \u001b[0mself\u001b[0m\u001b[0;34m.\u001b[0m\u001b[0m__result\u001b[0m\u001b[0;34m.\u001b[0m\u001b[0mappend\u001b[0m\u001b[0;34m(\u001b[0m\u001b[0mf\u001b[0m\u001b[0;34m(\u001b[0m\u001b[0mself\u001b[0m\u001b[0;34m.\u001b[0m\u001b[0m_X\u001b[0m\u001b[0;34m)\u001b[0m\u001b[0;34m)\u001b[0m\u001b[0;34m\u001b[0m\u001b[0m\n\u001b[0m\u001b[1;32m    136\u001b[0m         \u001b[0;32mreturn\u001b[0m \u001b[0mself\u001b[0m\u001b[0;34m\u001b[0m\u001b[0m\n\u001b[1;32m    137\u001b[0m \u001b[0;34m\u001b[0m\u001b[0m\n",
      "\u001b[0;32m/Users/carina/anaconda/envs/iraf27/lib/python2.7/site-packages/FATS/FeatureFunctionLib.pyc\u001b[0m in \u001b[0;36mfit\u001b[0;34m(self, data)\u001b[0m\n\u001b[1;32m    982\u001b[0m         \u001b[0merror\u001b[0m \u001b[0;34m=\u001b[0m \u001b[0mdata\u001b[0m\u001b[0;34m[\u001b[0m\u001b[0;36m2\u001b[0m\u001b[0;34m]\u001b[0m\u001b[0;34m.\u001b[0m\u001b[0mreshape\u001b[0m\u001b[0;34m(\u001b[0m\u001b[0;34m(\u001b[0m\u001b[0mN\u001b[0m\u001b[0;34m,\u001b[0m \u001b[0;36m1\u001b[0m\u001b[0;34m)\u001b[0m\u001b[0;34m)\u001b[0m \u001b[0;34m**\u001b[0m \u001b[0;36m2\u001b[0m\u001b[0;34m\u001b[0m\u001b[0m\n\u001b[1;32m    983\u001b[0m \u001b[0;34m\u001b[0m\u001b[0m\n\u001b[0;32m--> 984\u001b[0;31m         \u001b[0ma\u001b[0m \u001b[0;34m=\u001b[0m \u001b[0mself\u001b[0m\u001b[0;34m.\u001b[0m\u001b[0mcalculateCAR\u001b[0m\u001b[0;34m(\u001b[0m\u001b[0mtime\u001b[0m\u001b[0;34m,\u001b[0m \u001b[0mmagnitude\u001b[0m\u001b[0;34m,\u001b[0m \u001b[0merror\u001b[0m\u001b[0;34m)\u001b[0m\u001b[0;34m\u001b[0m\u001b[0m\n\u001b[0m\u001b[1;32m    985\u001b[0m \u001b[0;34m\u001b[0m\u001b[0m\n\u001b[1;32m    986\u001b[0m         \u001b[0;32mreturn\u001b[0m \u001b[0ma\u001b[0m\u001b[0;34m\u001b[0m\u001b[0m\n",
      "\u001b[0;32m/Users/carina/anaconda/envs/iraf27/lib/python2.7/site-packages/FATS/FeatureFunctionLib.pyc\u001b[0m in \u001b[0;36mcalculateCAR\u001b[0;34m(self, time, data, error)\u001b[0m\n\u001b[1;32m    964\u001b[0m \u001b[0;34m\u001b[0m\u001b[0m\n\u001b[1;32m    965\u001b[0m         res = minimize(self.CAR_Lik, x0, args=(time, data, error),\n\u001b[0;32m--> 966\u001b[0;31m                        method='powell', bounds=bnds)\n\u001b[0m\u001b[1;32m    967\u001b[0m         \u001b[0;31m# options={'disp': True}\u001b[0m\u001b[0;34m\u001b[0m\u001b[0;34m\u001b[0m\u001b[0m\n\u001b[1;32m    968\u001b[0m         \u001b[0msigma\u001b[0m \u001b[0;34m=\u001b[0m \u001b[0mres\u001b[0m\u001b[0;34m.\u001b[0m\u001b[0mx\u001b[0m\u001b[0;34m[\u001b[0m\u001b[0;36m0\u001b[0m\u001b[0;34m]\u001b[0m\u001b[0;34m\u001b[0m\u001b[0m\n",
      "\u001b[0;32m/Users/carina/anaconda/envs/iraf27/lib/python2.7/site-packages/scipy/optimize/_minimize.pyc\u001b[0m in \u001b[0;36mminimize\u001b[0;34m(fun, x0, args, method, jac, hess, hessp, bounds, constraints, tol, callback, options)\u001b[0m\n\u001b[1;32m    475\u001b[0m         \u001b[0;32mreturn\u001b[0m \u001b[0m_minimize_neldermead\u001b[0m\u001b[0;34m(\u001b[0m\u001b[0mfun\u001b[0m\u001b[0;34m,\u001b[0m \u001b[0mx0\u001b[0m\u001b[0;34m,\u001b[0m \u001b[0margs\u001b[0m\u001b[0;34m,\u001b[0m \u001b[0mcallback\u001b[0m\u001b[0;34m,\u001b[0m \u001b[0;34m**\u001b[0m\u001b[0moptions\u001b[0m\u001b[0;34m)\u001b[0m\u001b[0;34m\u001b[0m\u001b[0m\n\u001b[1;32m    476\u001b[0m     \u001b[0;32melif\u001b[0m \u001b[0mmeth\u001b[0m \u001b[0;34m==\u001b[0m \u001b[0;34m'powell'\u001b[0m\u001b[0;34m:\u001b[0m\u001b[0;34m\u001b[0m\u001b[0m\n\u001b[0;32m--> 477\u001b[0;31m         \u001b[0;32mreturn\u001b[0m \u001b[0m_minimize_powell\u001b[0m\u001b[0;34m(\u001b[0m\u001b[0mfun\u001b[0m\u001b[0;34m,\u001b[0m \u001b[0mx0\u001b[0m\u001b[0;34m,\u001b[0m \u001b[0margs\u001b[0m\u001b[0;34m,\u001b[0m \u001b[0mcallback\u001b[0m\u001b[0;34m,\u001b[0m \u001b[0;34m**\u001b[0m\u001b[0moptions\u001b[0m\u001b[0;34m)\u001b[0m\u001b[0;34m\u001b[0m\u001b[0m\n\u001b[0m\u001b[1;32m    478\u001b[0m     \u001b[0;32melif\u001b[0m \u001b[0mmeth\u001b[0m \u001b[0;34m==\u001b[0m \u001b[0;34m'cg'\u001b[0m\u001b[0;34m:\u001b[0m\u001b[0;34m\u001b[0m\u001b[0m\n\u001b[1;32m    479\u001b[0m         \u001b[0;32mreturn\u001b[0m \u001b[0m_minimize_cg\u001b[0m\u001b[0;34m(\u001b[0m\u001b[0mfun\u001b[0m\u001b[0;34m,\u001b[0m \u001b[0mx0\u001b[0m\u001b[0;34m,\u001b[0m \u001b[0margs\u001b[0m\u001b[0;34m,\u001b[0m \u001b[0mjac\u001b[0m\u001b[0;34m,\u001b[0m \u001b[0mcallback\u001b[0m\u001b[0;34m,\u001b[0m \u001b[0;34m**\u001b[0m\u001b[0moptions\u001b[0m\u001b[0;34m)\u001b[0m\u001b[0;34m\u001b[0m\u001b[0m\n",
      "\u001b[0;32m/Users/carina/anaconda/envs/iraf27/lib/python2.7/site-packages/scipy/optimize/optimize.pyc\u001b[0m in \u001b[0;36m_minimize_powell\u001b[0;34m(func, x0, args, callback, xtol, ftol, maxiter, maxfev, disp, direc, return_all, **unknown_options)\u001b[0m\n\u001b[1;32m   2570\u001b[0m             \u001b[0mfx2\u001b[0m \u001b[0;34m=\u001b[0m \u001b[0mfval\u001b[0m\u001b[0;34m\u001b[0m\u001b[0m\n\u001b[1;32m   2571\u001b[0m             fval, x, direc1 = _linesearch_powell(func, x, direc1,\n\u001b[0;32m-> 2572\u001b[0;31m                                                  tol=xtol * 100)\n\u001b[0m\u001b[1;32m   2573\u001b[0m             \u001b[0;32mif\u001b[0m \u001b[0;34m(\u001b[0m\u001b[0mfx2\u001b[0m \u001b[0;34m-\u001b[0m \u001b[0mfval\u001b[0m\u001b[0;34m)\u001b[0m \u001b[0;34m>\u001b[0m \u001b[0mdelta\u001b[0m\u001b[0;34m:\u001b[0m\u001b[0;34m\u001b[0m\u001b[0m\n\u001b[1;32m   2574\u001b[0m                 \u001b[0mdelta\u001b[0m \u001b[0;34m=\u001b[0m \u001b[0mfx2\u001b[0m \u001b[0;34m-\u001b[0m \u001b[0mfval\u001b[0m\u001b[0;34m\u001b[0m\u001b[0m\n",
      "\u001b[0;32m/Users/carina/anaconda/envs/iraf27/lib/python2.7/site-packages/scipy/optimize/optimize.pyc\u001b[0m in \u001b[0;36m_linesearch_powell\u001b[0;34m(func, p, xi, tol)\u001b[0m\n\u001b[1;32m   2363\u001b[0m     \u001b[0;32mdef\u001b[0m \u001b[0mmyfunc\u001b[0m\u001b[0;34m(\u001b[0m\u001b[0malpha\u001b[0m\u001b[0;34m)\u001b[0m\u001b[0;34m:\u001b[0m\u001b[0;34m\u001b[0m\u001b[0m\n\u001b[1;32m   2364\u001b[0m         \u001b[0;32mreturn\u001b[0m \u001b[0mfunc\u001b[0m\u001b[0;34m(\u001b[0m\u001b[0mp\u001b[0m \u001b[0;34m+\u001b[0m \u001b[0malpha\u001b[0m\u001b[0;34m*\u001b[0m\u001b[0mxi\u001b[0m\u001b[0;34m)\u001b[0m\u001b[0;34m\u001b[0m\u001b[0m\n\u001b[0;32m-> 2365\u001b[0;31m     \u001b[0malpha_min\u001b[0m\u001b[0;34m,\u001b[0m \u001b[0mfret\u001b[0m\u001b[0;34m,\u001b[0m \u001b[0miter\u001b[0m\u001b[0;34m,\u001b[0m \u001b[0mnum\u001b[0m \u001b[0;34m=\u001b[0m \u001b[0mbrent\u001b[0m\u001b[0;34m(\u001b[0m\u001b[0mmyfunc\u001b[0m\u001b[0;34m,\u001b[0m \u001b[0mfull_output\u001b[0m\u001b[0;34m=\u001b[0m\u001b[0;36m1\u001b[0m\u001b[0;34m,\u001b[0m \u001b[0mtol\u001b[0m\u001b[0;34m=\u001b[0m\u001b[0mtol\u001b[0m\u001b[0;34m)\u001b[0m\u001b[0;34m\u001b[0m\u001b[0m\n\u001b[0m\u001b[1;32m   2366\u001b[0m     \u001b[0mxi\u001b[0m \u001b[0;34m=\u001b[0m \u001b[0malpha_min\u001b[0m\u001b[0;34m*\u001b[0m\u001b[0mxi\u001b[0m\u001b[0;34m\u001b[0m\u001b[0m\n\u001b[1;32m   2367\u001b[0m     \u001b[0;32mreturn\u001b[0m \u001b[0msqueeze\u001b[0m\u001b[0;34m(\u001b[0m\u001b[0mfret\u001b[0m\u001b[0;34m)\u001b[0m\u001b[0;34m,\u001b[0m \u001b[0mp\u001b[0m \u001b[0;34m+\u001b[0m \u001b[0mxi\u001b[0m\u001b[0;34m,\u001b[0m \u001b[0mxi\u001b[0m\u001b[0;34m\u001b[0m\u001b[0m\n",
      "\u001b[0;32m/Users/carina/anaconda/envs/iraf27/lib/python2.7/site-packages/scipy/optimize/optimize.pyc\u001b[0m in \u001b[0;36mbrent\u001b[0;34m(func, args, brack, tol, full_output, maxiter)\u001b[0m\n\u001b[1;32m   2074\u001b[0m     options = {'xtol': tol,\n\u001b[1;32m   2075\u001b[0m                'maxiter': maxiter}\n\u001b[0;32m-> 2076\u001b[0;31m     \u001b[0mres\u001b[0m \u001b[0;34m=\u001b[0m \u001b[0m_minimize_scalar_brent\u001b[0m\u001b[0;34m(\u001b[0m\u001b[0mfunc\u001b[0m\u001b[0;34m,\u001b[0m \u001b[0mbrack\u001b[0m\u001b[0;34m,\u001b[0m \u001b[0margs\u001b[0m\u001b[0;34m,\u001b[0m \u001b[0;34m**\u001b[0m\u001b[0moptions\u001b[0m\u001b[0;34m)\u001b[0m\u001b[0;34m\u001b[0m\u001b[0m\n\u001b[0m\u001b[1;32m   2077\u001b[0m     \u001b[0;32mif\u001b[0m \u001b[0mfull_output\u001b[0m\u001b[0;34m:\u001b[0m\u001b[0;34m\u001b[0m\u001b[0m\n\u001b[1;32m   2078\u001b[0m         \u001b[0;32mreturn\u001b[0m \u001b[0mres\u001b[0m\u001b[0;34m[\u001b[0m\u001b[0;34m'x'\u001b[0m\u001b[0;34m]\u001b[0m\u001b[0;34m,\u001b[0m \u001b[0mres\u001b[0m\u001b[0;34m[\u001b[0m\u001b[0;34m'fun'\u001b[0m\u001b[0;34m]\u001b[0m\u001b[0;34m,\u001b[0m \u001b[0mres\u001b[0m\u001b[0;34m[\u001b[0m\u001b[0;34m'nit'\u001b[0m\u001b[0;34m]\u001b[0m\u001b[0;34m,\u001b[0m \u001b[0mres\u001b[0m\u001b[0;34m[\u001b[0m\u001b[0;34m'nfev'\u001b[0m\u001b[0;34m]\u001b[0m\u001b[0;34m\u001b[0m\u001b[0m\n",
      "\u001b[0;32m/Users/carina/anaconda/envs/iraf27/lib/python2.7/site-packages/scipy/optimize/optimize.pyc\u001b[0m in \u001b[0;36m_minimize_scalar_brent\u001b[0;34m(func, brack, args, xtol, maxiter, **unknown_options)\u001b[0m\n\u001b[1;32m   2106\u001b[0m                   full_output=True, maxiter=maxiter)\n\u001b[1;32m   2107\u001b[0m     \u001b[0mbrent\u001b[0m\u001b[0;34m.\u001b[0m\u001b[0mset_bracket\u001b[0m\u001b[0;34m(\u001b[0m\u001b[0mbrack\u001b[0m\u001b[0;34m)\u001b[0m\u001b[0;34m\u001b[0m\u001b[0m\n\u001b[0;32m-> 2108\u001b[0;31m     \u001b[0mbrent\u001b[0m\u001b[0;34m.\u001b[0m\u001b[0moptimize\u001b[0m\u001b[0;34m(\u001b[0m\u001b[0;34m)\u001b[0m\u001b[0;34m\u001b[0m\u001b[0m\n\u001b[0m\u001b[1;32m   2109\u001b[0m     \u001b[0mx\u001b[0m\u001b[0;34m,\u001b[0m \u001b[0mfval\u001b[0m\u001b[0;34m,\u001b[0m \u001b[0mnit\u001b[0m\u001b[0;34m,\u001b[0m \u001b[0mnfev\u001b[0m \u001b[0;34m=\u001b[0m \u001b[0mbrent\u001b[0m\u001b[0;34m.\u001b[0m\u001b[0mget_result\u001b[0m\u001b[0;34m(\u001b[0m\u001b[0mfull_output\u001b[0m\u001b[0;34m=\u001b[0m\u001b[0mTrue\u001b[0m\u001b[0;34m)\u001b[0m\u001b[0;34m\u001b[0m\u001b[0m\n\u001b[1;32m   2110\u001b[0m     return OptimizeResult(fun=fval, x=x, nit=nit, nfev=nfev,\n",
      "\u001b[0;32m/Users/carina/anaconda/envs/iraf27/lib/python2.7/site-packages/scipy/optimize/optimize.pyc\u001b[0m in \u001b[0;36moptimize\u001b[0;34m(self)\u001b[0m\n\u001b[1;32m   1924\u001b[0m                 \u001b[0mrat\u001b[0m \u001b[0;34m=\u001b[0m \u001b[0m_cg\u001b[0m \u001b[0;34m*\u001b[0m \u001b[0mdeltax\u001b[0m\u001b[0;34m\u001b[0m\u001b[0m\n\u001b[1;32m   1925\u001b[0m             \u001b[0;32melse\u001b[0m\u001b[0;34m:\u001b[0m                              \u001b[0;31m# do a parabolic step\u001b[0m\u001b[0;34m\u001b[0m\u001b[0m\n\u001b[0;32m-> 1926\u001b[0;31m                 \u001b[0mtmp1\u001b[0m \u001b[0;34m=\u001b[0m \u001b[0;34m(\u001b[0m\u001b[0mx\u001b[0m \u001b[0;34m-\u001b[0m \u001b[0mw\u001b[0m\u001b[0;34m)\u001b[0m \u001b[0;34m*\u001b[0m \u001b[0;34m(\u001b[0m\u001b[0mfx\u001b[0m \u001b[0;34m-\u001b[0m \u001b[0mfv\u001b[0m\u001b[0;34m)\u001b[0m\u001b[0;34m\u001b[0m\u001b[0m\n\u001b[0m\u001b[1;32m   1927\u001b[0m                 \u001b[0mtmp2\u001b[0m \u001b[0;34m=\u001b[0m \u001b[0;34m(\u001b[0m\u001b[0mx\u001b[0m \u001b[0;34m-\u001b[0m \u001b[0mv\u001b[0m\u001b[0;34m)\u001b[0m \u001b[0;34m*\u001b[0m \u001b[0;34m(\u001b[0m\u001b[0mfx\u001b[0m \u001b[0;34m-\u001b[0m \u001b[0mfw\u001b[0m\u001b[0;34m)\u001b[0m\u001b[0;34m\u001b[0m\u001b[0m\n\u001b[1;32m   1928\u001b[0m                 \u001b[0mp\u001b[0m \u001b[0;34m=\u001b[0m \u001b[0;34m(\u001b[0m\u001b[0mx\u001b[0m \u001b[0;34m-\u001b[0m \u001b[0mv\u001b[0m\u001b[0;34m)\u001b[0m \u001b[0;34m*\u001b[0m \u001b[0mtmp2\u001b[0m \u001b[0;34m-\u001b[0m \u001b[0;34m(\u001b[0m\u001b[0mx\u001b[0m \u001b[0;34m-\u001b[0m \u001b[0mw\u001b[0m\u001b[0;34m)\u001b[0m \u001b[0;34m*\u001b[0m \u001b[0mtmp1\u001b[0m\u001b[0;34m\u001b[0m\u001b[0m\n",
      "\u001b[0;31mTypeError\u001b[0m: unsupported operand type(s) for -: 'NoneType' and 'float'"
     ]
    }
   ],
   "source": [
    "for name, s in zip(test_names,name_lens):\n",
    "    print(name,s)\n",
    "    get_features(name)"
   ]
  },
  {
   "cell_type": "code",
   "execution_count": 31,
   "metadata": {},
   "outputs": [],
   "source": [
    "df = get_lightcurve('J121328.03-610214.1','../data/bright_blue_lightcurves/data/')"
   ]
  },
  {
   "cell_type": "code",
   "execution_count": 32,
   "metadata": {},
   "outputs": [
    {
     "data": {
      "text/plain": [
       "[<matplotlib.lines.Line2D at 0x1146b8a90>]"
      ]
     },
     "execution_count": 32,
     "metadata": {},
     "output_type": "execute_result"
    },
    {
     "data": {
      "image/png": "[encoded data removed]",
      "text/plain": [
       "<matplotlib.figure.Figure at 0x1146a7f50>"
      ]
     },
     "metadata": {},
     "output_type": "display_data"
    }
   ],
   "source": [
    "plt.plot(df['mjd'],df['w1mpro'])"
   ]
  },
  {
   "cell_type": "code",
   "execution_count": 33,
   "metadata": {},
   "outputs": [
    {
     "name": "stderr",
     "output_type": "stream",
     "text": [
      "WARNING: The fit may be unsuccessful; check fit_info['message'] for more information. [astropy.modeling.fitting]\n"
     ]
    }
   ],
   "source": [
    "foo = get_features(unique_names[0])"
   ]
  },
  {
   "cell_type": "code",
   "execution_count": 39,
   "metadata": {},
   "outputs": [
    {
     "data": {
      "text/html": [
       "<div>\n",
       "<style scoped>\n",
       "    .dataframe tbody tr th:only-of-type {\n",
       "        vertical-align: middle;\n",
       "    }\n",
       "\n",
       "    .dataframe tbody tr th {\n",
       "        vertical-align: top;\n",
       "    }\n",
       "\n",
       "    .dataframe thead th {\n",
       "        text-align: right;\n",
       "    }\n",
       "</style>\n",
       "<table border=\"1\" class=\"dataframe\">\n",
       "  <thead>\n",
       "    <tr style=\"text-align: right;\">\n",
       "      <th></th>\n",
       "      <th>Q31_color</th>\n",
       "      <th>KD_ymean_1</th>\n",
       "      <th>PercentAmplitude</th>\n",
       "      <th>MaxSlope</th>\n",
       "      <th>SmallKurtosis</th>\n",
       "      <th>Amplitude</th>\n",
       "      <th>KD_fit_sqresid</th>\n",
       "      <th>StetsonJ</th>\n",
       "      <th>Eta_color</th>\n",
       "      <th>Meanvariance</th>\n",
       "      <th>...</th>\n",
       "      <th>StructureFunction_index_21</th>\n",
       "      <th>Freq1_harmonics_rel_phase_1</th>\n",
       "      <th>CMD_r_squared</th>\n",
       "      <th>Freq1_harmonics_rel_phase_3</th>\n",
       "      <th>Beyond1Std</th>\n",
       "      <th>MedianAbsDev</th>\n",
       "      <th>SlottedA_length</th>\n",
       "      <th>FluxPercentileRatioMid80</th>\n",
       "      <th>PeriodLS</th>\n",
       "      <th>StetsonK_AC</th>\n",
       "    </tr>\n",
       "  </thead>\n",
       "  <tbody>\n",
       "    <tr>\n",
       "      <th>0</th>\n",
       "      <td>nan</td>\n",
       "      <td>nan</td>\n",
       "      <td>nan</td>\n",
       "      <td>nan</td>\n",
       "      <td>nan</td>\n",
       "      <td>nan</td>\n",
       "      <td>nan</td>\n",
       "      <td>nan</td>\n",
       "      <td>nan</td>\n",
       "      <td>nan</td>\n",
       "      <td>...</td>\n",
       "      <td>nan</td>\n",
       "      <td>nan</td>\n",
       "      <td>nan</td>\n",
       "      <td>nan</td>\n",
       "      <td>nan</td>\n",
       "      <td>nan</td>\n",
       "      <td>nan</td>\n",
       "      <td>nan</td>\n",
       "      <td>nan</td>\n",
       "      <td>nan</td>\n",
       "    </tr>\n",
       "  </tbody>\n",
       "</table>\n",
       "<p>1 rows × 85 columns</p>\n",
       "</div>"
      ],
      "text/plain": [
       "  Q31_color KD_ymean_1 PercentAmplitude MaxSlope SmallKurtosis Amplitude  \\\n",
       "0       nan        nan              nan      nan           nan       nan   \n",
       "\n",
       "  KD_fit_sqresid StetsonJ Eta_color Meanvariance     ...      \\\n",
       "0            nan      nan       nan          nan     ...       \n",
       "\n",
       "  StructureFunction_index_21 Freq1_harmonics_rel_phase_1 CMD_r_squared  \\\n",
       "0                        nan                         nan           nan   \n",
       "\n",
       "  Freq1_harmonics_rel_phase_3 Beyond1Std MedianAbsDev SlottedA_length  \\\n",
       "0                         nan        nan          nan             nan   \n",
       "\n",
       "  FluxPercentileRatioMid80 PeriodLS StetsonK_AC  \n",
       "0                      nan      nan         nan  \n",
       "\n",
       "[1 rows x 85 columns]"
      ]
     },
     "execution_count": 39,
     "metadata": {},
     "output_type": "execute_result"
    }
   ],
   "source": [
    "tmp = {col:np.nan for col in foo.columns}\n",
    "tmp['Name'] = unique_names[0]\n",
    "out = pd.DataFrame(data=np.array(tmp.values()).reshape(1,len(tmp.values())), \n",
    "                        columns=tmp.keys())\n",
    "out"
   ]
  },
  {
   "cell_type": "code",
   "execution_count": 40,
   "metadata": {},
   "outputs": [
    {
     "data": {
      "text/html": [
       "<div>\n",
       "<style scoped>\n",
       "    .dataframe tbody tr th:only-of-type {\n",
       "        vertical-align: middle;\n",
       "    }\n",
       "\n",
       "    .dataframe tbody tr th {\n",
       "        vertical-align: top;\n",
       "    }\n",
       "\n",
       "    .dataframe thead th {\n",
       "        text-align: right;\n",
       "    }\n",
       "</style>\n",
       "<table border=\"1\" class=\"dataframe\">\n",
       "  <thead>\n",
       "    <tr style=\"text-align: right;\">\n",
       "      <th></th>\n",
       "      <th>Psi_eta</th>\n",
       "      <th>Q31_color</th>\n",
       "      <th>PercentAmplitude</th>\n",
       "      <th>MaxSlope</th>\n",
       "      <th>SmallKurtosis</th>\n",
       "      <th>KD_major_std_0</th>\n",
       "      <th>KD_theta_0</th>\n",
       "      <th>KD_fit_sqresid</th>\n",
       "      <th>StetsonJ</th>\n",
       "      <th>Eta_color</th>\n",
       "      <th>...</th>\n",
       "      <th>Freq1_harmonics_rel_phase_3</th>\n",
       "      <th>PairSlopeTrend</th>\n",
       "      <th>CAR_sigma</th>\n",
       "      <th>Autocor_length</th>\n",
       "      <th>StructureFunction_index_31</th>\n",
       "      <th>MedianAbsDev</th>\n",
       "      <th>Gskew</th>\n",
       "      <th>FluxPercentileRatioMid80</th>\n",
       "      <th>PeriodLS</th>\n",
       "      <th>StetsonK_AC</th>\n",
       "    </tr>\n",
       "  </thead>\n",
       "  <tbody>\n",
       "    <tr>\n",
       "      <th>0</th>\n",
       "      <td>1.54289854922</td>\n",
       "      <td>0.0305</td>\n",
       "      <td>0.00983845499818</td>\n",
       "      <td>188.442212285</td>\n",
       "      <td>0.908494997573</td>\n",
       "      <td>0.0306179566274</td>\n",
       "      <td>0.687775688876</td>\n",
       "      <td>38.4187981263</td>\n",
       "      <td>0.282066295093</td>\n",
       "      <td>2300730864.55</td>\n",
       "      <td>...</td>\n",
       "      <td>-1.76808354802</td>\n",
       "      <td>-0.0333333333333</td>\n",
       "      <td>75.0947769478</td>\n",
       "      <td>1.0</td>\n",
       "      <td>2.01248687158</td>\n",
       "      <td>0.015</td>\n",
       "      <td>-0.0135</td>\n",
       "      <td>0.8125</td>\n",
       "      <td>30.1950443418</td>\n",
       "      <td>0.76675791443</td>\n",
       "    </tr>\n",
       "  </tbody>\n",
       "</table>\n",
       "<p>1 rows × 85 columns</p>\n",
       "</div>"
      ],
      "text/plain": [
       "         Psi_eta Q31_color  PercentAmplitude       MaxSlope   SmallKurtosis  \\\n",
       "0  1.54289854922    0.0305  0.00983845499818  188.442212285  0.908494997573   \n",
       "\n",
       "    KD_major_std_0      KD_theta_0 KD_fit_sqresid        StetsonJ  \\\n",
       "0  0.0306179566274  0.687775688876  38.4187981263  0.282066295093   \n",
       "\n",
       "       Eta_color      ...       Freq1_harmonics_rel_phase_3    PairSlopeTrend  \\\n",
       "0  2300730864.55      ...                    -1.76808354802  -0.0333333333333   \n",
       "\n",
       "       CAR_sigma Autocor_length StructureFunction_index_31 MedianAbsDev  \\\n",
       "0  75.0947769478            1.0              2.01248687158        0.015   \n",
       "\n",
       "     Gskew FluxPercentileRatioMid80       PeriodLS    StetsonK_AC  \n",
       "0  -0.0135                   0.8125  30.1950443418  0.76675791443  \n",
       "\n",
       "[1 rows x 85 columns]"
      ]
     },
     "execution_count": 40,
     "metadata": {},
     "output_type": "execute_result"
    }
   ],
   "source": [
    "foo"
   ]
  },
  {
   "cell_type": "code",
   "execution_count": null,
   "metadata": {},
   "outputs": [],
   "source": []
  }
 ],
 "metadata": {
  "kernelspec": {
   "display_name": "Python [conda env:iraf27]",
   "language": "python",
   "name": "conda-env-iraf27-py"
  },
  "language_info": {
   "codemirror_mode": {
    "name": "ipython",
    "version": 2
   },
   "file_extension": ".py",
   "mimetype": "text/x-python",
   "name": "python",
   "nbconvert_exporter": "python",
   "pygments_lexer": "ipython2",
   "version": "2.7.14"
  }
 },
 "nbformat": 4,
 "nbformat_minor": 2
}
