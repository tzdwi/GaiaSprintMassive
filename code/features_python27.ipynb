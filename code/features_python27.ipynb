{
 "cells": [
  {
   "cell_type": "code",
   "execution_count": 1,
   "metadata": {},
   "outputs": [],
   "source": [
    "from __future__ import print_function, absolute_import\n",
    "from WISE_tools import *\n",
    "import FATS"
   ]
  },
  {
   "cell_type": "code",
   "execution_count": 2,
   "metadata": {},
   "outputs": [],
   "source": [
    "unique_names = parse_source_names('test_data/')"
   ]
  },
  {
   "cell_type": "code",
   "execution_count": 3,
   "metadata": {},
   "outputs": [],
   "source": [
    "mjds = []\n",
    "W1s = []\n",
    "W1errs = []\n",
    "for name in unique_names:\n",
    "    df = get_lightcurve(name, 'test_data/')\n",
    "    mjd,W1,W1err = df['mjd'].values, df['w1mpro'].values, df['w1sigmpro'].values\n",
    "    mjds.append(mjd)\n",
    "    W1s.append(W1)\n",
    "    W1errs.append(W1err)"
   ]
  },
  {
   "cell_type": "code",
   "execution_count": 7,
   "metadata": {},
   "outputs": [
    {
     "data": {
      "text/plain": [
       "<FATS.Feature.FeatureSpace instance at 0x119c4dab8>"
      ]
     },
     "execution_count": 7,
     "metadata": {},
     "output_type": "execute_result"
    }
   ],
   "source": [
    "#Let's do some feature extraction with FATS (Nun et al. 2015, arXiv:1506.00010)\n",
    "#WISE data is already time-aligned!\n",
    "lc_test = np.array([df['w1mpro'].values,df['mjd'].values,df['w1sigmpro'].values,\n",
    "                    df['w2mpro'].values,df['w1mpro'].values,df['w2mpro'].values,\n",
    "                    df['mjd'].values,df['w1sigmpro'].values,df['w2sigmpro'].values])\n",
    "a = FATS.FeatureSpace(Data=['magnitude', 'time', 'error', 'magnitude2', 'error2'],excludeList=[])\n",
    "a.calculateFeature(lc_test)"
   ]
  },
  {
   "cell_type": "code",
   "execution_count": 10,
   "metadata": {},
   "outputs": [
    {
     "name": "stdout",
     "output_type": "stream",
     "text": [
      "{'Psi_eta': 0.062575606078326004, 'Q31_color': 0.088999999999998636, 'PercentAmplitude': 0.071821515892420543, 'MaxSlope': 811.02362627289676, 'SmallKurtosis': -0.32546974967443187, 'StetsonJ': 13.406877998456768, 'Eta_color': 505527525.39901394, 'Meanvariance': 0.027109922034159011, 'StetsonL': 10.729800396351026, 'Rcs': 0.36079577589155237, 'StetsonK': 0.83449320041152697, 'FluxPercentileRatioMid65': 0.57715674362089842, 'Freq3_harmonics_amplitude_0': 1.6768135559722364, 'Freq3_harmonics_amplitude_1': 1.4627723032670454, 'Freq3_harmonics_amplitude_2': 1.3063837282602699, 'Freq3_harmonics_amplitude_3': 0.9729373785256431, 'AndersonDarling': 1.0, 'FluxPercentileRatioMid20': 0.046172539489672218, 'LinearTrend': 0.00026160613590096643, 'Freq2_harmonics_rel_phase_3': -0.18281809193993459, 'Freq2_harmonics_rel_phase_2': 0.81504928415307454, 'Freq2_harmonics_rel_phase_1': 1.6460848415629079, 'Freq2_harmonics_rel_phase_0': 0.0, 'FluxPercentileRatioMid50': 0.46780072904009673, 'Eta_e': 34841180.773212962, 'Freq2_harmonics_amplitude_0': 1.0511815776480984, 'Freq1_harmonics_amplitude_2': 0.30860352895564019, 'Freq1_harmonics_amplitude_3': 0.28192359662565514, 'Freq1_harmonics_amplitude_0': 1.0816591087786902, 'Freq1_harmonics_amplitude_1': 0.42949601936492393, 'SlottedA_length': 0.065792003573733382, 'Q31': 0.38599999999999923, 'Freq2_harmonics_amplitude_2': 0.70252480580257026, 'Skew': -0.95382785792334335, 'CAR_tau': 178.0134881858464, 'StructureFunction_index_32': 1.3501516148570381, 'Std': 0.26312666108954447, 'MedianBRP': 0.45864661654135336, 'Mean': 9.7059172932330799, 'Beyond1Std': 0.20300751879699247, 'Psi_CS': 0.36079577589155237, 'Freq3_harmonics_rel_phase_2': 0.42196085037854836, 'Freq3_harmonics_rel_phase_3': -0.17882166968757629, 'Freq3_harmonics_rel_phase_0': 0.0, 'Freq3_harmonics_rel_phase_1': 1.4344332768724606, 'Amplitude': 0.41950000000000021, 'Freq2_harmonics_amplitude_1': 0.9577321684942377, 'FluxPercentileRatioMid35': 0.10085054678007307, 'Freq2_harmonics_amplitude_3': 0.57336884679021538, 'Con': 0.022900763358778626, 'CAR_mean': 0.054523493652908393, 'PercentDifferenceFluxPercentile': 0.0838427057864711, 'Color': 0.10091729323307952, 'Period_fit': 2.6301586614514729e-18, 'StructureFunction_index_21': 1.719352694715764, 'Freq1_harmonics_rel_phase_0': 0.0, 'Freq1_harmonics_rel_phase_1': -0.87767775363905942, 'Freq1_harmonics_rel_phase_2': -1.5823636039142062, 'Freq1_harmonics_rel_phase_3': 0.93852652872733522, 'PairSlopeTrend': -0.033333333333333333, 'CAR_sigma': -0.02130856328232594, 'Autocor_length': 15.0, 'StructureFunction_index_31': 2.3086075881176122, 'MedianAbsDev': 0.125, 'Gskew': -0.47900000000000276, 'FluxPercentileRatioMid80': 0.93317132442284367, 'PeriodLS': 16348.968195839989, 'StetsonK_AC': 1.0}\n"
     ]
    }
   ],
   "source": [
    "print(a.result('dict'))"
   ]
  },
  {
   "cell_type": "code",
   "execution_count": null,
   "metadata": {},
   "outputs": [],
   "source": []
  }
 ],
 "metadata": {
  "kernelspec": {
   "display_name": "Python [conda env:iraf27]",
   "language": "python",
   "name": "conda-env-iraf27-py"
  },
  "language_info": {
   "codemirror_mode": {
    "name": "ipython",
    "version": 2
   },
   "file_extension": ".py",
   "mimetype": "text/x-python",
   "name": "python",
   "nbconvert_exporter": "python",
   "pygments_lexer": "ipython2",
   "version": "2.7.14"
  }
 },
 "nbformat": 4,
 "nbformat_minor": 2
}
