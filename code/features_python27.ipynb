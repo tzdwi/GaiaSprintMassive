{
 "cells": [
  {
   "cell_type": "code",
   "execution_count": 48,
   "metadata": {},
   "outputs": [],
   "source": [
    "from __future__ import print_function, absolute_import\n",
    "from WISE_tools import *\n",
    "import FATS, pandas as pd, numpy as np\n",
    "from multiprocessing import Pool"
   ]
  },
  {
   "cell_type": "code",
   "execution_count": 3,
   "metadata": {},
   "outputs": [],
   "source": [
    "unique_names = parse_source_names('test_data/')"
   ]
  },
  {
   "cell_type": "code",
   "execution_count": 49,
   "metadata": {},
   "outputs": [],
   "source": [
    "def get_features(name):\n",
    "    \"\"\"\n",
    "    A function that is given a name, and then outputs all 68 features (plus the name)\n",
    "    in a handy pandas dataframe.\n",
    "    \n",
    "    Parameter\n",
    "    ---------\n",
    "    Name : str\n",
    "        WISE source name output by WISE_tools.parse_source_names\n",
    "        \n",
    "    Returns\n",
    "    -------\n",
    "    features : `~pandas.DataFrame`\n",
    "        Dataframe of all 68 features, plus a column for the name.\n",
    "    \"\"\"\n",
    "    \n",
    "    df = get_lightcurve(name, 'test_data/')\n",
    "    lc = np.array([df['w1mpro'].values,df['mjd'].values,df['w1sigmpro'].values,\n",
    "                df['w2mpro'].values,df['w1mpro'].values,df['w2mpro'].values,\n",
    "                df['mjd'].values,df['w1sigmpro'].values,df['w2sigmpro'].values])\n",
    "    \n",
    "    a = FATS.FeatureSpace(Data=['magnitude', 'time', 'error', 'magnitude2', 'error2'],\n",
    "                           excludeList=[])\n",
    "    a.calculateFeature(lc)\n",
    "    result = a.result('dict')\n",
    "    result['Name'] = name\n",
    "    return pd.DataFrame(data=np.array(result.values()).reshape(1,len(result.values())), \n",
    "                        columns=result.keys())"
   ]
  },
  {
   "cell_type": "code",
   "execution_count": 56,
   "metadata": {},
   "outputs": [
    {
     "name": "stdout",
     "output_type": "stream",
     "text": [
      "CPU times: user 220 ms, sys: 129 ms, total: 349 ms\n",
      "Wall time: 1min 7s\n"
     ]
    }
   ],
   "source": [
    "%%time\n",
    "p = Pool(8)\n",
    "dfs = p.map(get_features,np.tile(unique_names,8))\n",
    "out = pd.concat(dfs)\n",
    "out.to_csv('test_features.csv')"
   ]
  },
  {
   "cell_type": "code",
   "execution_count": null,
   "metadata": {},
   "outputs": [],
   "source": []
  }
 ],
 "metadata": {
  "kernelspec": {
   "display_name": "Python [conda env:iraf27]",
   "language": "python",
   "name": "conda-env-iraf27-py"
  },
  "language_info": {
   "codemirror_mode": {
    "name": "ipython",
    "version": 2
   },
   "file_extension": ".py",
   "mimetype": "text/x-python",
   "name": "python",
   "nbconvert_exporter": "python",
   "pygments_lexer": "ipython2",
   "version": "2.7.14"
  }
 },
 "nbformat": 4,
 "nbformat_minor": 2
}
